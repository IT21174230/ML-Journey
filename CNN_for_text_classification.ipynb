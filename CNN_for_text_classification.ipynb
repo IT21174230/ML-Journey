{
  "cells": [
    {
      "cell_type": "markdown",
      "metadata": {
        "id": "view-in-github",
        "colab_type": "text"
      },
      "source": [
        "<a href=\"https://colab.research.google.com/github/IT21174230/ML-Journey/blob/main/CNN_for_text_classification.ipynb\" target=\"_parent\"><img src=\"https://colab.research.google.com/assets/colab-badge.svg\" alt=\"Open In Colab\"/></a>"
      ]
    },
    {
      "cell_type": "code",
      "execution_count": 1,
      "metadata": {
        "colab": {
          "base_uri": "https://localhost:8080/",
          "height": 206
        },
        "id": "hS17iyjyxi7e",
        "outputId": "5f4471ef-056f-46bd-8126-165041e8aa6b"
      },
      "outputs": [
        {
          "output_type": "execute_result",
          "data": {
            "text/plain": [
              "                                              Review  Sentiment\n",
              "0  Fast shipping but this product is very cheaply...          1\n",
              "1  This case takes so long to ship and it's not e...          1\n",
              "2  Good for not droids. Not good for iPhones. You...          1\n",
              "3  The cable was not compatible between my macboo...          1\n",
              "4  The case is nice but did not have a glow light...          1"
            ],
            "text/html": [
              "\n",
              "  <div id=\"df-51cda48d-8a63-403b-b599-91b940cdc9de\" class=\"colab-df-container\">\n",
              "    <div>\n",
              "<style scoped>\n",
              "    .dataframe tbody tr th:only-of-type {\n",
              "        vertical-align: middle;\n",
              "    }\n",
              "\n",
              "    .dataframe tbody tr th {\n",
              "        vertical-align: top;\n",
              "    }\n",
              "\n",
              "    .dataframe thead th {\n",
              "        text-align: right;\n",
              "    }\n",
              "</style>\n",
              "<table border=\"1\" class=\"dataframe\">\n",
              "  <thead>\n",
              "    <tr style=\"text-align: right;\">\n",
              "      <th></th>\n",
              "      <th>Review</th>\n",
              "      <th>Sentiment</th>\n",
              "    </tr>\n",
              "  </thead>\n",
              "  <tbody>\n",
              "    <tr>\n",
              "      <th>0</th>\n",
              "      <td>Fast shipping but this product is very cheaply...</td>\n",
              "      <td>1</td>\n",
              "    </tr>\n",
              "    <tr>\n",
              "      <th>1</th>\n",
              "      <td>This case takes so long to ship and it's not e...</td>\n",
              "      <td>1</td>\n",
              "    </tr>\n",
              "    <tr>\n",
              "      <th>2</th>\n",
              "      <td>Good for not droids. Not good for iPhones. You...</td>\n",
              "      <td>1</td>\n",
              "    </tr>\n",
              "    <tr>\n",
              "      <th>3</th>\n",
              "      <td>The cable was not compatible between my macboo...</td>\n",
              "      <td>1</td>\n",
              "    </tr>\n",
              "    <tr>\n",
              "      <th>4</th>\n",
              "      <td>The case is nice but did not have a glow light...</td>\n",
              "      <td>1</td>\n",
              "    </tr>\n",
              "  </tbody>\n",
              "</table>\n",
              "</div>\n",
              "    <div class=\"colab-df-buttons\">\n",
              "\n",
              "  <div class=\"colab-df-container\">\n",
              "    <button class=\"colab-df-convert\" onclick=\"convertToInteractive('df-51cda48d-8a63-403b-b599-91b940cdc9de')\"\n",
              "            title=\"Convert this dataframe to an interactive table.\"\n",
              "            style=\"display:none;\">\n",
              "\n",
              "  <svg xmlns=\"http://www.w3.org/2000/svg\" height=\"24px\" viewBox=\"0 -960 960 960\">\n",
              "    <path d=\"M120-120v-720h720v720H120Zm60-500h600v-160H180v160Zm220 220h160v-160H400v160Zm0 220h160v-160H400v160ZM180-400h160v-160H180v160Zm440 0h160v-160H620v160ZM180-180h160v-160H180v160Zm440 0h160v-160H620v160Z\"/>\n",
              "  </svg>\n",
              "    </button>\n",
              "\n",
              "  <style>\n",
              "    .colab-df-container {\n",
              "      display:flex;\n",
              "      gap: 12px;\n",
              "    }\n",
              "\n",
              "    .colab-df-convert {\n",
              "      background-color: #E8F0FE;\n",
              "      border: none;\n",
              "      border-radius: 50%;\n",
              "      cursor: pointer;\n",
              "      display: none;\n",
              "      fill: #1967D2;\n",
              "      height: 32px;\n",
              "      padding: 0 0 0 0;\n",
              "      width: 32px;\n",
              "    }\n",
              "\n",
              "    .colab-df-convert:hover {\n",
              "      background-color: #E2EBFA;\n",
              "      box-shadow: 0px 1px 2px rgba(60, 64, 67, 0.3), 0px 1px 3px 1px rgba(60, 64, 67, 0.15);\n",
              "      fill: #174EA6;\n",
              "    }\n",
              "\n",
              "    .colab-df-buttons div {\n",
              "      margin-bottom: 4px;\n",
              "    }\n",
              "\n",
              "    [theme=dark] .colab-df-convert {\n",
              "      background-color: #3B4455;\n",
              "      fill: #D2E3FC;\n",
              "    }\n",
              "\n",
              "    [theme=dark] .colab-df-convert:hover {\n",
              "      background-color: #434B5C;\n",
              "      box-shadow: 0px 1px 3px 1px rgba(0, 0, 0, 0.15);\n",
              "      filter: drop-shadow(0px 1px 2px rgba(0, 0, 0, 0.3));\n",
              "      fill: #FFFFFF;\n",
              "    }\n",
              "  </style>\n",
              "\n",
              "    <script>\n",
              "      const buttonEl =\n",
              "        document.querySelector('#df-51cda48d-8a63-403b-b599-91b940cdc9de button.colab-df-convert');\n",
              "      buttonEl.style.display =\n",
              "        google.colab.kernel.accessAllowed ? 'block' : 'none';\n",
              "\n",
              "      async function convertToInteractive(key) {\n",
              "        const element = document.querySelector('#df-51cda48d-8a63-403b-b599-91b940cdc9de');\n",
              "        const dataTable =\n",
              "          await google.colab.kernel.invokeFunction('convertToInteractive',\n",
              "                                                    [key], {});\n",
              "        if (!dataTable) return;\n",
              "\n",
              "        const docLinkHtml = 'Like what you see? Visit the ' +\n",
              "          '<a target=\"_blank\" href=https://colab.research.google.com/notebooks/data_table.ipynb>data table notebook</a>'\n",
              "          + ' to learn more about interactive tables.';\n",
              "        element.innerHTML = '';\n",
              "        dataTable['output_type'] = 'display_data';\n",
              "        await google.colab.output.renderOutput(dataTable, element);\n",
              "        const docLink = document.createElement('div');\n",
              "        docLink.innerHTML = docLinkHtml;\n",
              "        element.appendChild(docLink);\n",
              "      }\n",
              "    </script>\n",
              "  </div>\n",
              "\n",
              "\n",
              "<div id=\"df-e0c9ae10-4fcf-41bc-9df3-6d4456691a3c\">\n",
              "  <button class=\"colab-df-quickchart\" onclick=\"quickchart('df-e0c9ae10-4fcf-41bc-9df3-6d4456691a3c')\"\n",
              "            title=\"Suggest charts\"\n",
              "            style=\"display:none;\">\n",
              "\n",
              "<svg xmlns=\"http://www.w3.org/2000/svg\" height=\"24px\"viewBox=\"0 0 24 24\"\n",
              "     width=\"24px\">\n",
              "    <g>\n",
              "        <path d=\"M19 3H5c-1.1 0-2 .9-2 2v14c0 1.1.9 2 2 2h14c1.1 0 2-.9 2-2V5c0-1.1-.9-2-2-2zM9 17H7v-7h2v7zm4 0h-2V7h2v10zm4 0h-2v-4h2v4z\"/>\n",
              "    </g>\n",
              "</svg>\n",
              "  </button>\n",
              "\n",
              "<style>\n",
              "  .colab-df-quickchart {\n",
              "      --bg-color: #E8F0FE;\n",
              "      --fill-color: #1967D2;\n",
              "      --hover-bg-color: #E2EBFA;\n",
              "      --hover-fill-color: #174EA6;\n",
              "      --disabled-fill-color: #AAA;\n",
              "      --disabled-bg-color: #DDD;\n",
              "  }\n",
              "\n",
              "  [theme=dark] .colab-df-quickchart {\n",
              "      --bg-color: #3B4455;\n",
              "      --fill-color: #D2E3FC;\n",
              "      --hover-bg-color: #434B5C;\n",
              "      --hover-fill-color: #FFFFFF;\n",
              "      --disabled-bg-color: #3B4455;\n",
              "      --disabled-fill-color: #666;\n",
              "  }\n",
              "\n",
              "  .colab-df-quickchart {\n",
              "    background-color: var(--bg-color);\n",
              "    border: none;\n",
              "    border-radius: 50%;\n",
              "    cursor: pointer;\n",
              "    display: none;\n",
              "    fill: var(--fill-color);\n",
              "    height: 32px;\n",
              "    padding: 0;\n",
              "    width: 32px;\n",
              "  }\n",
              "\n",
              "  .colab-df-quickchart:hover {\n",
              "    background-color: var(--hover-bg-color);\n",
              "    box-shadow: 0 1px 2px rgba(60, 64, 67, 0.3), 0 1px 3px 1px rgba(60, 64, 67, 0.15);\n",
              "    fill: var(--button-hover-fill-color);\n",
              "  }\n",
              "\n",
              "  .colab-df-quickchart-complete:disabled,\n",
              "  .colab-df-quickchart-complete:disabled:hover {\n",
              "    background-color: var(--disabled-bg-color);\n",
              "    fill: var(--disabled-fill-color);\n",
              "    box-shadow: none;\n",
              "  }\n",
              "\n",
              "  .colab-df-spinner {\n",
              "    border: 2px solid var(--fill-color);\n",
              "    border-color: transparent;\n",
              "    border-bottom-color: var(--fill-color);\n",
              "    animation:\n",
              "      spin 1s steps(1) infinite;\n",
              "  }\n",
              "\n",
              "  @keyframes spin {\n",
              "    0% {\n",
              "      border-color: transparent;\n",
              "      border-bottom-color: var(--fill-color);\n",
              "      border-left-color: var(--fill-color);\n",
              "    }\n",
              "    20% {\n",
              "      border-color: transparent;\n",
              "      border-left-color: var(--fill-color);\n",
              "      border-top-color: var(--fill-color);\n",
              "    }\n",
              "    30% {\n",
              "      border-color: transparent;\n",
              "      border-left-color: var(--fill-color);\n",
              "      border-top-color: var(--fill-color);\n",
              "      border-right-color: var(--fill-color);\n",
              "    }\n",
              "    40% {\n",
              "      border-color: transparent;\n",
              "      border-right-color: var(--fill-color);\n",
              "      border-top-color: var(--fill-color);\n",
              "    }\n",
              "    60% {\n",
              "      border-color: transparent;\n",
              "      border-right-color: var(--fill-color);\n",
              "    }\n",
              "    80% {\n",
              "      border-color: transparent;\n",
              "      border-right-color: var(--fill-color);\n",
              "      border-bottom-color: var(--fill-color);\n",
              "    }\n",
              "    90% {\n",
              "      border-color: transparent;\n",
              "      border-bottom-color: var(--fill-color);\n",
              "    }\n",
              "  }\n",
              "</style>\n",
              "\n",
              "  <script>\n",
              "    async function quickchart(key) {\n",
              "      const quickchartButtonEl =\n",
              "        document.querySelector('#' + key + ' button');\n",
              "      quickchartButtonEl.disabled = true;  // To prevent multiple clicks.\n",
              "      quickchartButtonEl.classList.add('colab-df-spinner');\n",
              "      try {\n",
              "        const charts = await google.colab.kernel.invokeFunction(\n",
              "            'suggestCharts', [key], {});\n",
              "      } catch (error) {\n",
              "        console.error('Error during call to suggestCharts:', error);\n",
              "      }\n",
              "      quickchartButtonEl.classList.remove('colab-df-spinner');\n",
              "      quickchartButtonEl.classList.add('colab-df-quickchart-complete');\n",
              "    }\n",
              "    (() => {\n",
              "      let quickchartButtonEl =\n",
              "        document.querySelector('#df-e0c9ae10-4fcf-41bc-9df3-6d4456691a3c button');\n",
              "      quickchartButtonEl.style.display =\n",
              "        google.colab.kernel.accessAllowed ? 'block' : 'none';\n",
              "    })();\n",
              "  </script>\n",
              "</div>\n",
              "\n",
              "    </div>\n",
              "  </div>\n"
            ]
          },
          "metadata": {},
          "execution_count": 1
        }
      ],
      "source": [
        "import pandas as pd\n",
        "\n",
        "dataset='/content/drive/MyDrive/AmazonReview.csv'\n",
        "data=pd.read_csv(dataset)\n",
        "\n",
        "data.head()"
      ]
    },
    {
      "cell_type": "code",
      "execution_count": 2,
      "metadata": {
        "id": "Qfvpz2wfx9cm"
      },
      "outputs": [],
      "source": [
        "data.dropna(inplace=True)\n",
        "data = data.dropna(subset=['Review'])"
      ]
    },
    {
      "cell_type": "code",
      "execution_count": 3,
      "metadata": {
        "id": "06MQm1xhyB4N"
      },
      "outputs": [],
      "source": [
        "\n",
        "data = data.sample(frac = 1)"
      ]
    },
    {
      "cell_type": "code",
      "execution_count": 4,
      "metadata": {
        "colab": {
          "base_uri": "https://localhost:8080/"
        },
        "id": "tWyijpZeyHOf",
        "outputId": "b7dad620-6054-4df4-fabf-c4566a34cf4b"
      },
      "outputs": [
        {
          "output_type": "stream",
          "name": "stdout",
          "text": [
            "['this is not worth it  your kindle doesnt glare until you put this product on than you cant read  save your money', 'came apart on a hot daylong trip  otherwise it was good while it lasted', 'has held up nice does not fit as well as i think it should it is so slim you cant fit the cord into it but i might be the only person that wants both to fit into the case', 'at half the price of the original case i wasnt expecting much  no one was more surprised when the signature leather folio case arrived  comparing it to the original highdollar cover the signature version was more attractive and had the added bonus of an inside pocket  the supple material makes using the kindle just that much more enjoyable  purchased as just an extra cover it  immediately became the primary  a really good bargain', 'i thought thought it said would fit a simple touch nook but when i received it it wasnt the correct size we made the sticker fit by cutting it to size but book case was too big it fits my nook but i bought it for my daughters simple touch nook']\n"
          ]
        }
      ],
      "source": [
        "reviews=[]\n",
        "\n",
        "import re\n",
        "\n",
        "for i in data['Review']:\n",
        "  j=re.sub(r'[^a-zA-Z0-9\\s]', '', i)\n",
        "  reviews.append(j.lower())\n",
        "\n",
        "print(reviews[10:15])"
      ]
    },
    {
      "cell_type": "code",
      "execution_count": 5,
      "metadata": {
        "id": "-RTWQRSGyZgs"
      },
      "outputs": [],
      "source": [
        "from keras.preprocessing.text import Tokenizer\n",
        "\n",
        "tokenizer=Tokenizer(num_words=5000)\n",
        "tokenizer.fit_on_texts(reviews)\n",
        "\n",
        "review_embed=tokenizer.texts_to_sequences(reviews)\n"
      ]
    },
    {
      "cell_type": "code",
      "execution_count": 6,
      "metadata": {
        "colab": {
          "base_uri": "https://localhost:8080/"
        },
        "id": "AcVZ2IES1vJs",
        "outputId": "df7ae0de-8f39-4775-8cc5-88e81039b976"
      },
      "outputs": [
        {
          "output_type": "stream",
          "name": "stdout",
          "text": [
            "2741\n"
          ]
        }
      ],
      "source": [
        "reviews_lens=[]\n",
        "for i in review_embed:\n",
        "  reviews_lens.append(len(i))\n",
        "\n",
        "maxl=max(reviews_lens)\n",
        "print(maxl)"
      ]
    },
    {
      "cell_type": "code",
      "execution_count": 7,
      "metadata": {
        "id": "0kiVFLzj1_1G"
      },
      "outputs": [],
      "source": [
        "from keras.preprocessing.sequence import pad_sequences\n",
        "\n",
        "X=pad_sequences(review_embed, padding='post', maxlen=maxl)"
      ]
    },
    {
      "cell_type": "code",
      "execution_count": 8,
      "metadata": {
        "colab": {
          "base_uri": "https://localhost:8080/"
        },
        "id": "robJolYj3FEw",
        "outputId": "ed90857e-09b1-4fc8-9c75-00f7f4f7bbc3"
      },
      "outputs": [
        {
          "output_type": "stream",
          "name": "stdout",
          "text": [
            "[[0. 0. 0. 0. 1.]\n",
            " [0. 0. 0. 1. 0.]\n",
            " [0. 0. 0. 1. 0.]\n",
            " ...\n",
            " [0. 0. 0. 0. 1.]\n",
            " [0. 1. 0. 0. 0.]\n",
            " [0. 0. 0. 1. 0.]]\n"
          ]
        }
      ],
      "source": [
        "y=data['Sentiment']\n",
        "\n",
        "from keras.utils import to_categorical\n",
        "\n",
        "y=y-1\n",
        "y= to_categorical(y, 5)\n",
        "print(y)"
      ]
    },
    {
      "cell_type": "code",
      "execution_count": 9,
      "metadata": {
        "colab": {
          "base_uri": "https://localhost:8080/"
        },
        "id": "pfDKhqD9a40d",
        "outputId": "81c406c4-3990-4478-b685-9434a719279e"
      },
      "outputs": [
        {
          "output_type": "stream",
          "name": "stdout",
          "text": [
            "(18749, 2741) (18749, 5) (6250, 2741) (6250, 5)\n"
          ]
        }
      ],
      "source": [
        "from sklearn.model_selection import train_test_split\n",
        "\n",
        "X_train, X_test, y_train, y_test=train_test_split(X,y, test_size=0.25, random_state=42)\n",
        "\n",
        "print(X_train.shape, y_train.shape, X_test.shape, y_test.shape)\n",
        "\n"
      ]
    },
    {
      "cell_type": "code",
      "execution_count": 10,
      "metadata": {
        "id": "rfd-a7os5Rpq"
      },
      "outputs": [],
      "source": [
        "from keras.models import Sequential\n",
        "from keras.layers import Embedding, Dense, Conv1D, GlobalMaxPooling1D, Dropout\n",
        "from keras.optimizers import Adam\n",
        "from keras.callbacks import EarlyStopping\n",
        "\n",
        "\n",
        "def get_model():\n",
        "\n",
        "  model=Sequential([\n",
        "      Embedding(input_dim=5000, output_dim=100, input_length=maxl),\n",
        "      Conv1D(16, 5, activation='relu'),\n",
        "      GlobalMaxPooling1D(),\n",
        "      Dense(32, activation='relu'),\n",
        "      Dropout(0.4),\n",
        "      Dense(5, activation='softmax')\n",
        "  ])\n",
        "\n",
        "  model.compile(\n",
        "        Adam(learning_rate=0.001),\n",
        "        loss='categorical_crossentropy',\n",
        "        metrics=['accuracy']\n",
        "    )\n",
        "\n",
        "  early_stopping = EarlyStopping(monitor='val_loss', patience=3, restore_best_weights=True)\n",
        "\n",
        "  return model, early_stopping\n"
      ]
    },
    {
      "cell_type": "code",
      "source": [
        "from sklearn.model_selection import StratifiedKFold\n",
        "from sklearn.metrics import accuracy_score\n",
        "import numpy as np\n",
        "import os\n",
        "\n",
        "folds=5\n",
        "cv_acc=[]\n",
        "trained_models=[]\n",
        "kf=StratifiedKFold(n_splits=folds, shuffle=False)\n",
        "\n",
        "for i,(train_index, val_index) in enumerate(kf.split(X_train, y_train.argmax(1))):\n",
        "  print(train_index)\n",
        "  X_train_fold, X_val_fold = X_train[train_index], X_train[val_index]\n",
        "  y_train_fold, y_val_fold = y_train[train_index], y_train[val_index]\n",
        "\n",
        "  model, early_stop=get_model()\n",
        "\n",
        "  model.fit(X_train_fold, y_train_fold, batch_size=32, epochs=10, validation_data=(X_val_fold, y_val_fold), callbacks=[early_stop])\n",
        "  y_val_pred = model.predict(X_val_fold)\n",
        "  accuracy = accuracy_score(np.argmax(y_val_fold, axis=1), np.argmax(y_val_pred, axis=1))\n",
        "  cv_acc.append(accuracy)\n",
        "\n",
        "  model_filename = f'model_fold_{i+1}.h5'\n",
        "  model.save(model_filename)\n",
        "  trained_models.append(model_filename)\n"
      ],
      "metadata": {
        "colab": {
          "base_uri": "https://localhost:8080/"
        },
        "id": "23oJg51LkSRZ",
        "outputId": "70edb739-d792-42cc-f0ce-fff96b21d95b"
      },
      "execution_count": 13,
      "outputs": [
        {
          "output_type": "stream",
          "name": "stdout",
          "text": [
            "[ 3712  3715  3723 ... 18746 18747 18748]\n",
            "Epoch 1/10\n",
            "469/469 [==============================] - 133s 282ms/step - loss: 1.4742 - accuracy: 0.3251 - val_loss: 1.2749 - val_accuracy: 0.4341\n",
            "Epoch 2/10\n",
            "469/469 [==============================] - 131s 280ms/step - loss: 1.2179 - accuracy: 0.4645 - val_loss: 1.1939 - val_accuracy: 0.4627\n",
            "Epoch 3/10\n",
            "469/469 [==============================] - 141s 300ms/step - loss: 1.0620 - accuracy: 0.5382 - val_loss: 1.1890 - val_accuracy: 0.4776\n",
            "Epoch 4/10\n",
            "469/469 [==============================] - 130s 277ms/step - loss: 0.9221 - accuracy: 0.6130 - val_loss: 1.2175 - val_accuracy: 0.4739\n",
            "Epoch 5/10\n",
            "469/469 [==============================] - 128s 274ms/step - loss: 0.7866 - accuracy: 0.6840 - val_loss: 1.3218 - val_accuracy: 0.4715\n",
            "Epoch 6/10\n",
            "469/469 [==============================] - 133s 284ms/step - loss: 0.6741 - accuracy: 0.7364 - val_loss: 1.4623 - val_accuracy: 0.4629\n",
            "118/118 [==============================] - 7s 57ms/step\n"
          ]
        },
        {
          "output_type": "stream",
          "name": "stderr",
          "text": [
            "/usr/local/lib/python3.10/dist-packages/keras/src/engine/training.py:3103: UserWarning: You are saving your model as an HDF5 file via `model.save()`. This file format is considered legacy. We recommend using instead the native Keras format, e.g. `model.save('my_model.keras')`.\n",
            "  saving_api.save_model(\n"
          ]
        },
        {
          "output_type": "stream",
          "name": "stdout",
          "text": [
            "[    0     1     2 ... 18746 18747 18748]\n",
            "Epoch 1/10\n",
            "469/469 [==============================] - 128s 272ms/step - loss: 1.4656 - accuracy: 0.3190 - val_loss: 1.2340 - val_accuracy: 0.4477\n",
            "Epoch 2/10\n",
            "469/469 [==============================] - 139s 296ms/step - loss: 1.1870 - accuracy: 0.4739 - val_loss: 1.1701 - val_accuracy: 0.4955\n",
            "Epoch 3/10\n",
            "469/469 [==============================] - 132s 281ms/step - loss: 1.0072 - accuracy: 0.5680 - val_loss: 1.1747 - val_accuracy: 0.4931\n",
            "Epoch 4/10\n",
            "469/469 [==============================] - 130s 277ms/step - loss: 0.8435 - accuracy: 0.6546 - val_loss: 1.2174 - val_accuracy: 0.4877\n",
            "Epoch 5/10\n",
            "469/469 [==============================] - 135s 289ms/step - loss: 0.6965 - accuracy: 0.7290 - val_loss: 1.3455 - val_accuracy: 0.4803\n",
            "118/118 [==============================] - 9s 75ms/step\n"
          ]
        },
        {
          "output_type": "stream",
          "name": "stderr",
          "text": [
            "/usr/local/lib/python3.10/dist-packages/keras/src/engine/training.py:3103: UserWarning: You are saving your model as an HDF5 file via `model.save()`. This file format is considered legacy. We recommend using instead the native Keras format, e.g. `model.save('my_model.keras')`.\n",
            "  saving_api.save_model(\n"
          ]
        },
        {
          "output_type": "stream",
          "name": "stdout",
          "text": [
            "[    0     1     2 ... 18746 18747 18748]\n",
            "Epoch 1/10\n",
            "469/469 [==============================] - 140s 297ms/step - loss: 1.4792 - accuracy: 0.3266 - val_loss: 1.2644 - val_accuracy: 0.4403\n",
            "Epoch 2/10\n",
            "469/469 [==============================] - 130s 276ms/step - loss: 1.1936 - accuracy: 0.4730 - val_loss: 1.1839 - val_accuracy: 0.4856\n",
            "Epoch 3/10\n",
            "469/469 [==============================] - 133s 284ms/step - loss: 1.0169 - accuracy: 0.5696 - val_loss: 1.1934 - val_accuracy: 0.4944\n",
            "Epoch 4/10\n",
            "469/469 [==============================] - 133s 283ms/step - loss: 0.8521 - accuracy: 0.6521 - val_loss: 1.2493 - val_accuracy: 0.4840\n",
            "Epoch 5/10\n",
            "469/469 [==============================] - 132s 281ms/step - loss: 0.7098 - accuracy: 0.7211 - val_loss: 1.3437 - val_accuracy: 0.4861\n",
            "118/118 [==============================] - 7s 55ms/step\n",
            "[    0     1     2 ... 18746 18747 18748]\n"
          ]
        },
        {
          "output_type": "stream",
          "name": "stderr",
          "text": [
            "/usr/local/lib/python3.10/dist-packages/keras/src/engine/training.py:3103: UserWarning: You are saving your model as an HDF5 file via `model.save()`. This file format is considered legacy. We recommend using instead the native Keras format, e.g. `model.save('my_model.keras')`.\n",
            "  saving_api.save_model(\n"
          ]
        },
        {
          "output_type": "stream",
          "name": "stdout",
          "text": [
            "Epoch 1/10\n",
            "469/469 [==============================] - 138s 293ms/step - loss: 1.4537 - accuracy: 0.3340 - val_loss: 1.2841 - val_accuracy: 0.4232\n",
            "Epoch 2/10\n",
            "469/469 [==============================] - 128s 272ms/step - loss: 1.2044 - accuracy: 0.4610 - val_loss: 1.2050 - val_accuracy: 0.4651\n",
            "Epoch 3/10\n",
            "469/469 [==============================] - 127s 271ms/step - loss: 1.0450 - accuracy: 0.5507 - val_loss: 1.2115 - val_accuracy: 0.4627\n",
            "Epoch 4/10\n",
            "469/469 [==============================] - 130s 277ms/step - loss: 0.8913 - accuracy: 0.6273 - val_loss: 1.2640 - val_accuracy: 0.4693\n",
            "Epoch 5/10\n",
            "469/469 [==============================] - 138s 294ms/step - loss: 0.7461 - accuracy: 0.7022 - val_loss: 1.3754 - val_accuracy: 0.4611\n",
            "118/118 [==============================] - 9s 71ms/step\n"
          ]
        },
        {
          "output_type": "stream",
          "name": "stderr",
          "text": [
            "/usr/local/lib/python3.10/dist-packages/keras/src/engine/training.py:3103: UserWarning: You are saving your model as an HDF5 file via `model.save()`. This file format is considered legacy. We recommend using instead the native Keras format, e.g. `model.save('my_model.keras')`.\n",
            "  saving_api.save_model(\n"
          ]
        },
        {
          "output_type": "stream",
          "name": "stdout",
          "text": [
            "[    0     1     2 ... 15078 15083 15094]\n",
            "Epoch 1/10\n",
            "469/469 [==============================] - 127s 270ms/step - loss: 1.4520 - accuracy: 0.3377 - val_loss: 1.2570 - val_accuracy: 0.4647\n",
            "Epoch 2/10\n",
            "469/469 [==============================] - 131s 279ms/step - loss: 1.1977 - accuracy: 0.4686 - val_loss: 1.1801 - val_accuracy: 0.4889\n",
            "Epoch 3/10\n",
            "469/469 [==============================] - 132s 281ms/step - loss: 1.0273 - accuracy: 0.5641 - val_loss: 1.1900 - val_accuracy: 0.4791\n",
            "Epoch 4/10\n",
            "469/469 [==============================] - 138s 293ms/step - loss: 0.8632 - accuracy: 0.6423 - val_loss: 1.2464 - val_accuracy: 0.4799\n",
            "Epoch 5/10\n",
            "469/469 [==============================] - 133s 284ms/step - loss: 0.7241 - accuracy: 0.7098 - val_loss: 1.3363 - val_accuracy: 0.4740\n",
            "118/118 [==============================] - 9s 79ms/step\n"
          ]
        },
        {
          "output_type": "stream",
          "name": "stderr",
          "text": [
            "/usr/local/lib/python3.10/dist-packages/keras/src/engine/training.py:3103: UserWarning: You are saving your model as an HDF5 file via `model.save()`. This file format is considered legacy. We recommend using instead the native Keras format, e.g. `model.save('my_model.keras')`.\n",
            "  saving_api.save_model(\n"
          ]
        }
      ]
    },
    {
      "cell_type": "code",
      "source": [
        "print(cv_acc)"
      ],
      "metadata": {
        "colab": {
          "base_uri": "https://localhost:8080/"
        },
        "id": "bMA6PfQ7vhDS",
        "outputId": "9cf6f261-ac2b-4aad-a9af-74429f7d7cc5"
      },
      "execution_count": 14,
      "outputs": [
        {
          "output_type": "stream",
          "name": "stdout",
          "text": [
            "[0.4776, 0.49546666666666667, 0.4856, 0.4650666666666667, 0.48893038143504935]\n"
          ]
        }
      ]
    },
    {
      "cell_type": "code",
      "source": [
        "from keras.models import load_model\n",
        "\n",
        "print(f'average validation accuracy score:{np.mean(cv_acc)}')\n",
        "\n",
        "most_acc=trained_models[np.argmax(cv_acc)]\n",
        "most_acc_model=load_model(most_acc)"
      ],
      "metadata": {
        "id": "YkdS1T00-VPd",
        "colab": {
          "base_uri": "https://localhost:8080/"
        },
        "outputId": "7ed198fd-3732-4095-b9ad-37909efbfd4c"
      },
      "execution_count": 15,
      "outputs": [
        {
          "output_type": "stream",
          "name": "stdout",
          "text": [
            "average validation accuracy score:0.4825327429536766\n"
          ]
        }
      ]
    },
    {
      "cell_type": "code",
      "source": [
        "\n",
        "\n",
        "y_pred=most_acc_model.predict(X_test)\n",
        "\n",
        "test_labels=np.argmax(y_test, axis=1) + 1\n",
        "pred_labels=np.argmax(y_pred, axis=1) + 1\n",
        "\n",
        "print(test_labels)\n",
        "print(pred_labels)\n",
        "\n",
        "accuracy=accuracy_score(test_labels, pred_labels)\n",
        "\n",
        "print(f'testing accuracy percentage = {accuracy}')\n"
      ],
      "metadata": {
        "colab": {
          "base_uri": "https://localhost:8080/"
        },
        "id": "cZrBc7zUYwGN",
        "outputId": "6025d2b6-a80c-4322-d289-e6d3e7c73673"
      },
      "execution_count": 16,
      "outputs": [
        {
          "output_type": "stream",
          "name": "stdout",
          "text": [
            "196/196 [==============================] - 14s 66ms/step\n",
            "[5 2 3 ... 1 1 1]\n",
            "[5 1 3 ... 1 1 3]\n",
            "testing accuracy percentage = 0.47872\n"
          ]
        }
      ]
    }
  ],
  "metadata": {
    "colab": {
      "provenance": [],
      "mount_file_id": "1ngxgYKMBe72R6dMGtZ9v_3WdkcidL4u5",
      "authorship_tag": "ABX9TyMLUoxwmmwxagrl/Zq18sqj",
      "include_colab_link": true
    },
    "kernelspec": {
      "display_name": "Python 3",
      "name": "python3"
    },
    "language_info": {
      "name": "python"
    }
  },
  "nbformat": 4,
  "nbformat_minor": 0
}