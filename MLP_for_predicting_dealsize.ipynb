{
  "nbformat": 4,
  "nbformat_minor": 0,
  "metadata": {
    "colab": {
      "provenance": [],
      "authorship_tag": "ABX9TyP9+q7Bc2wKVJPWghLUCgx6",
      "include_colab_link": true
    },
    "kernelspec": {
      "name": "python3",
      "display_name": "Python 3"
    },
    "language_info": {
      "name": "python"
    }
  },
  "cells": [
    {
      "cell_type": "markdown",
      "metadata": {
        "id": "view-in-github",
        "colab_type": "text"
      },
      "source": [
        "<a href=\"https://colab.research.google.com/github/IT21174230/ML-Journey/blob/main/MLP_for_predicting_dealsize.ipynb\" target=\"_parent\"><img src=\"https://colab.research.google.com/assets/colab-badge.svg\" alt=\"Open In Colab\"/></a>"
      ]
    },
    {
      "cell_type": "code",
      "source": [
        "dataset='/content/Market_data_set.csv'\n",
        "\n",
        "import pandas as pd\n",
        "\n",
        "dataframe=pd.read_csv(dataset)\n",
        "\n",
        "data=dataframe.head()\n",
        "data"
      ],
      "metadata": {
        "colab": {
          "base_uri": "https://localhost:8080/",
          "height": 226
        },
        "id": "cR7OjE-aTPhG",
        "outputId": "297d0af5-acf9-4793-e22a-26afa449abf0"
      },
      "execution_count": null,
      "outputs": [
        {
          "output_type": "execute_result",
          "data": {
            "text/plain": [
              "   QUANTITYORDERED  PRICEEACH  ORDERLINENUMBER    SALES   STATUS  QTR_ID  \\\n",
              "0               30      95.70                2  2871.00  Shipped       1   \n",
              "1               34      81.35                5  2765.90  Shipped       2   \n",
              "2               41      94.74                2  3884.34  Shipped       3   \n",
              "3               45      83.26                6  3746.70  Shipped       3   \n",
              "4               49     100.00               14  5205.27  Shipped       4   \n",
              "\n",
              "   MONTH_ID  YEAR_ID  PRODUCTLINE  MSRP  Product_SK PRODUCTCODE  Customer_SK  \\\n",
              "0         2     2003  Motorcycles    95           1    S10_1678            1   \n",
              "1         5     2003  Motorcycles    95           2    S10_1678            2   \n",
              "2         7     2003  Motorcycles    95           3    S10_1678            3   \n",
              "3         8     2003  Motorcycles    95           4    S10_1678            4   \n",
              "4        10     2003  Motorcycles    95           5    S10_1678            5   \n",
              "\n",
              "  COUNTRY DEALSIZE  \n",
              "0     USA    Small  \n",
              "1  France    Small  \n",
              "2  France   Medium  \n",
              "3     USA   Medium  \n",
              "4     USA   Medium  "
            ],
            "text/html": [
              "\n",
              "  <div id=\"df-3a4245df-1903-43a9-b586-23533cc04189\" class=\"colab-df-container\">\n",
              "    <div>\n",
              "<style scoped>\n",
              "    .dataframe tbody tr th:only-of-type {\n",
              "        vertical-align: middle;\n",
              "    }\n",
              "\n",
              "    .dataframe tbody tr th {\n",
              "        vertical-align: top;\n",
              "    }\n",
              "\n",
              "    .dataframe thead th {\n",
              "        text-align: right;\n",
              "    }\n",
              "</style>\n",
              "<table border=\"1\" class=\"dataframe\">\n",
              "  <thead>\n",
              "    <tr style=\"text-align: right;\">\n",
              "      <th></th>\n",
              "      <th>QUANTITYORDERED</th>\n",
              "      <th>PRICEEACH</th>\n",
              "      <th>ORDERLINENUMBER</th>\n",
              "      <th>SALES</th>\n",
              "      <th>STATUS</th>\n",
              "      <th>QTR_ID</th>\n",
              "      <th>MONTH_ID</th>\n",
              "      <th>YEAR_ID</th>\n",
              "      <th>PRODUCTLINE</th>\n",
              "      <th>MSRP</th>\n",
              "      <th>Product_SK</th>\n",
              "      <th>PRODUCTCODE</th>\n",
              "      <th>Customer_SK</th>\n",
              "      <th>COUNTRY</th>\n",
              "      <th>DEALSIZE</th>\n",
              "    </tr>\n",
              "  </thead>\n",
              "  <tbody>\n",
              "    <tr>\n",
              "      <th>0</th>\n",
              "      <td>30</td>\n",
              "      <td>95.70</td>\n",
              "      <td>2</td>\n",
              "      <td>2871.00</td>\n",
              "      <td>Shipped</td>\n",
              "      <td>1</td>\n",
              "      <td>2</td>\n",
              "      <td>2003</td>\n",
              "      <td>Motorcycles</td>\n",
              "      <td>95</td>\n",
              "      <td>1</td>\n",
              "      <td>S10_1678</td>\n",
              "      <td>1</td>\n",
              "      <td>USA</td>\n",
              "      <td>Small</td>\n",
              "    </tr>\n",
              "    <tr>\n",
              "      <th>1</th>\n",
              "      <td>34</td>\n",
              "      <td>81.35</td>\n",
              "      <td>5</td>\n",
              "      <td>2765.90</td>\n",
              "      <td>Shipped</td>\n",
              "      <td>2</td>\n",
              "      <td>5</td>\n",
              "      <td>2003</td>\n",
              "      <td>Motorcycles</td>\n",
              "      <td>95</td>\n",
              "      <td>2</td>\n",
              "      <td>S10_1678</td>\n",
              "      <td>2</td>\n",
              "      <td>France</td>\n",
              "      <td>Small</td>\n",
              "    </tr>\n",
              "    <tr>\n",
              "      <th>2</th>\n",
              "      <td>41</td>\n",
              "      <td>94.74</td>\n",
              "      <td>2</td>\n",
              "      <td>3884.34</td>\n",
              "      <td>Shipped</td>\n",
              "      <td>3</td>\n",
              "      <td>7</td>\n",
              "      <td>2003</td>\n",
              "      <td>Motorcycles</td>\n",
              "      <td>95</td>\n",
              "      <td>3</td>\n",
              "      <td>S10_1678</td>\n",
              "      <td>3</td>\n",
              "      <td>France</td>\n",
              "      <td>Medium</td>\n",
              "    </tr>\n",
              "    <tr>\n",
              "      <th>3</th>\n",
              "      <td>45</td>\n",
              "      <td>83.26</td>\n",
              "      <td>6</td>\n",
              "      <td>3746.70</td>\n",
              "      <td>Shipped</td>\n",
              "      <td>3</td>\n",
              "      <td>8</td>\n",
              "      <td>2003</td>\n",
              "      <td>Motorcycles</td>\n",
              "      <td>95</td>\n",
              "      <td>4</td>\n",
              "      <td>S10_1678</td>\n",
              "      <td>4</td>\n",
              "      <td>USA</td>\n",
              "      <td>Medium</td>\n",
              "    </tr>\n",
              "    <tr>\n",
              "      <th>4</th>\n",
              "      <td>49</td>\n",
              "      <td>100.00</td>\n",
              "      <td>14</td>\n",
              "      <td>5205.27</td>\n",
              "      <td>Shipped</td>\n",
              "      <td>4</td>\n",
              "      <td>10</td>\n",
              "      <td>2003</td>\n",
              "      <td>Motorcycles</td>\n",
              "      <td>95</td>\n",
              "      <td>5</td>\n",
              "      <td>S10_1678</td>\n",
              "      <td>5</td>\n",
              "      <td>USA</td>\n",
              "      <td>Medium</td>\n",
              "    </tr>\n",
              "  </tbody>\n",
              "</table>\n",
              "</div>\n",
              "    <div class=\"colab-df-buttons\">\n",
              "\n",
              "  <div class=\"colab-df-container\">\n",
              "    <button class=\"colab-df-convert\" onclick=\"convertToInteractive('df-3a4245df-1903-43a9-b586-23533cc04189')\"\n",
              "            title=\"Convert this dataframe to an interactive table.\"\n",
              "            style=\"display:none;\">\n",
              "\n",
              "  <svg xmlns=\"http://www.w3.org/2000/svg\" height=\"24px\" viewBox=\"0 -960 960 960\">\n",
              "    <path d=\"M120-120v-720h720v720H120Zm60-500h600v-160H180v160Zm220 220h160v-160H400v160Zm0 220h160v-160H400v160ZM180-400h160v-160H180v160Zm440 0h160v-160H620v160ZM180-180h160v-160H180v160Zm440 0h160v-160H620v160Z\"/>\n",
              "  </svg>\n",
              "    </button>\n",
              "\n",
              "  <style>\n",
              "    .colab-df-container {\n",
              "      display:flex;\n",
              "      gap: 12px;\n",
              "    }\n",
              "\n",
              "    .colab-df-convert {\n",
              "      background-color: #E8F0FE;\n",
              "      border: none;\n",
              "      border-radius: 50%;\n",
              "      cursor: pointer;\n",
              "      display: none;\n",
              "      fill: #1967D2;\n",
              "      height: 32px;\n",
              "      padding: 0 0 0 0;\n",
              "      width: 32px;\n",
              "    }\n",
              "\n",
              "    .colab-df-convert:hover {\n",
              "      background-color: #E2EBFA;\n",
              "      box-shadow: 0px 1px 2px rgba(60, 64, 67, 0.3), 0px 1px 3px 1px rgba(60, 64, 67, 0.15);\n",
              "      fill: #174EA6;\n",
              "    }\n",
              "\n",
              "    .colab-df-buttons div {\n",
              "      margin-bottom: 4px;\n",
              "    }\n",
              "\n",
              "    [theme=dark] .colab-df-convert {\n",
              "      background-color: #3B4455;\n",
              "      fill: #D2E3FC;\n",
              "    }\n",
              "\n",
              "    [theme=dark] .colab-df-convert:hover {\n",
              "      background-color: #434B5C;\n",
              "      box-shadow: 0px 1px 3px 1px rgba(0, 0, 0, 0.15);\n",
              "      filter: drop-shadow(0px 1px 2px rgba(0, 0, 0, 0.3));\n",
              "      fill: #FFFFFF;\n",
              "    }\n",
              "  </style>\n",
              "\n",
              "    <script>\n",
              "      const buttonEl =\n",
              "        document.querySelector('#df-3a4245df-1903-43a9-b586-23533cc04189 button.colab-df-convert');\n",
              "      buttonEl.style.display =\n",
              "        google.colab.kernel.accessAllowed ? 'block' : 'none';\n",
              "\n",
              "      async function convertToInteractive(key) {\n",
              "        const element = document.querySelector('#df-3a4245df-1903-43a9-b586-23533cc04189');\n",
              "        const dataTable =\n",
              "          await google.colab.kernel.invokeFunction('convertToInteractive',\n",
              "                                                    [key], {});\n",
              "        if (!dataTable) return;\n",
              "\n",
              "        const docLinkHtml = 'Like what you see? Visit the ' +\n",
              "          '<a target=\"_blank\" href=https://colab.research.google.com/notebooks/data_table.ipynb>data table notebook</a>'\n",
              "          + ' to learn more about interactive tables.';\n",
              "        element.innerHTML = '';\n",
              "        dataTable['output_type'] = 'display_data';\n",
              "        await google.colab.output.renderOutput(dataTable, element);\n",
              "        const docLink = document.createElement('div');\n",
              "        docLink.innerHTML = docLinkHtml;\n",
              "        element.appendChild(docLink);\n",
              "      }\n",
              "    </script>\n",
              "  </div>\n",
              "\n",
              "\n",
              "<div id=\"df-2877c232-0d79-4018-b0be-8d0e638a9c32\">\n",
              "  <button class=\"colab-df-quickchart\" onclick=\"quickchart('df-2877c232-0d79-4018-b0be-8d0e638a9c32')\"\n",
              "            title=\"Suggest charts.\"\n",
              "            style=\"display:none;\">\n",
              "\n",
              "<svg xmlns=\"http://www.w3.org/2000/svg\" height=\"24px\"viewBox=\"0 0 24 24\"\n",
              "     width=\"24px\">\n",
              "    <g>\n",
              "        <path d=\"M19 3H5c-1.1 0-2 .9-2 2v14c0 1.1.9 2 2 2h14c1.1 0 2-.9 2-2V5c0-1.1-.9-2-2-2zM9 17H7v-7h2v7zm4 0h-2V7h2v10zm4 0h-2v-4h2v4z\"/>\n",
              "    </g>\n",
              "</svg>\n",
              "  </button>\n",
              "\n",
              "<style>\n",
              "  .colab-df-quickchart {\n",
              "      --bg-color: #E8F0FE;\n",
              "      --fill-color: #1967D2;\n",
              "      --hover-bg-color: #E2EBFA;\n",
              "      --hover-fill-color: #174EA6;\n",
              "      --disabled-fill-color: #AAA;\n",
              "      --disabled-bg-color: #DDD;\n",
              "  }\n",
              "\n",
              "  [theme=dark] .colab-df-quickchart {\n",
              "      --bg-color: #3B4455;\n",
              "      --fill-color: #D2E3FC;\n",
              "      --hover-bg-color: #434B5C;\n",
              "      --hover-fill-color: #FFFFFF;\n",
              "      --disabled-bg-color: #3B4455;\n",
              "      --disabled-fill-color: #666;\n",
              "  }\n",
              "\n",
              "  .colab-df-quickchart {\n",
              "    background-color: var(--bg-color);\n",
              "    border: none;\n",
              "    border-radius: 50%;\n",
              "    cursor: pointer;\n",
              "    display: none;\n",
              "    fill: var(--fill-color);\n",
              "    height: 32px;\n",
              "    padding: 0;\n",
              "    width: 32px;\n",
              "  }\n",
              "\n",
              "  .colab-df-quickchart:hover {\n",
              "    background-color: var(--hover-bg-color);\n",
              "    box-shadow: 0 1px 2px rgba(60, 64, 67, 0.3), 0 1px 3px 1px rgba(60, 64, 67, 0.15);\n",
              "    fill: var(--button-hover-fill-color);\n",
              "  }\n",
              "\n",
              "  .colab-df-quickchart-complete:disabled,\n",
              "  .colab-df-quickchart-complete:disabled:hover {\n",
              "    background-color: var(--disabled-bg-color);\n",
              "    fill: var(--disabled-fill-color);\n",
              "    box-shadow: none;\n",
              "  }\n",
              "\n",
              "  .colab-df-spinner {\n",
              "    border: 2px solid var(--fill-color);\n",
              "    border-color: transparent;\n",
              "    border-bottom-color: var(--fill-color);\n",
              "    animation:\n",
              "      spin 1s steps(1) infinite;\n",
              "  }\n",
              "\n",
              "  @keyframes spin {\n",
              "    0% {\n",
              "      border-color: transparent;\n",
              "      border-bottom-color: var(--fill-color);\n",
              "      border-left-color: var(--fill-color);\n",
              "    }\n",
              "    20% {\n",
              "      border-color: transparent;\n",
              "      border-left-color: var(--fill-color);\n",
              "      border-top-color: var(--fill-color);\n",
              "    }\n",
              "    30% {\n",
              "      border-color: transparent;\n",
              "      border-left-color: var(--fill-color);\n",
              "      border-top-color: var(--fill-color);\n",
              "      border-right-color: var(--fill-color);\n",
              "    }\n",
              "    40% {\n",
              "      border-color: transparent;\n",
              "      border-right-color: var(--fill-color);\n",
              "      border-top-color: var(--fill-color);\n",
              "    }\n",
              "    60% {\n",
              "      border-color: transparent;\n",
              "      border-right-color: var(--fill-color);\n",
              "    }\n",
              "    80% {\n",
              "      border-color: transparent;\n",
              "      border-right-color: var(--fill-color);\n",
              "      border-bottom-color: var(--fill-color);\n",
              "    }\n",
              "    90% {\n",
              "      border-color: transparent;\n",
              "      border-bottom-color: var(--fill-color);\n",
              "    }\n",
              "  }\n",
              "</style>\n",
              "\n",
              "  <script>\n",
              "    async function quickchart(key) {\n",
              "      const quickchartButtonEl =\n",
              "        document.querySelector('#' + key + ' button');\n",
              "      quickchartButtonEl.disabled = true;  // To prevent multiple clicks.\n",
              "      quickchartButtonEl.classList.add('colab-df-spinner');\n",
              "      try {\n",
              "        const charts = await google.colab.kernel.invokeFunction(\n",
              "            'suggestCharts', [key], {});\n",
              "      } catch (error) {\n",
              "        console.error('Error during call to suggestCharts:', error);\n",
              "      }\n",
              "      quickchartButtonEl.classList.remove('colab-df-spinner');\n",
              "      quickchartButtonEl.classList.add('colab-df-quickchart-complete');\n",
              "    }\n",
              "    (() => {\n",
              "      let quickchartButtonEl =\n",
              "        document.querySelector('#df-2877c232-0d79-4018-b0be-8d0e638a9c32 button');\n",
              "      quickchartButtonEl.style.display =\n",
              "        google.colab.kernel.accessAllowed ? 'block' : 'none';\n",
              "    })();\n",
              "  </script>\n",
              "</div>\n",
              "    </div>\n",
              "  </div>\n"
            ]
          },
          "metadata": {},
          "execution_count": 3
        }
      ]
    },
    {
      "cell_type": "markdown",
      "source": [
        "preprocess data by removing unwanted values, converting ordinal to numerical, splitting to testing and training sets and one hot encoding values"
      ],
      "metadata": {
        "id": "gmrHy3wCn6al"
      }
    },
    {
      "cell_type": "code",
      "source": [
        "from sklearn import preprocessing\n",
        "label_encoder = preprocessing.LabelEncoder()\n",
        "\n",
        "dataframe['STATUS'].unique()\n",
        "dataframe['STATUS']= label_encoder.fit_transform(dataframe['STATUS'])\n",
        "dataframe['STATUS'].unique()\n",
        "\n"
      ],
      "metadata": {
        "colab": {
          "base_uri": "https://localhost:8080/"
        },
        "id": "Qocj_cCmYkrf",
        "outputId": "4c705315-4b66-435b-a686-42834e2bd670"
      },
      "execution_count": null,
      "outputs": [
        {
          "output_type": "execute_result",
          "data": {
            "text/plain": [
              "array([5, 1, 2, 0, 3, 4])"
            ]
          },
          "metadata": {},
          "execution_count": 80
        }
      ]
    },
    {
      "cell_type": "code",
      "source": [
        "dataframe['PRODUCTLINE'].unique()\n",
        "dataframe['PRODUCTLINE']= label_encoder.fit_transform(dataframe['PRODUCTLINE'])\n",
        "dataframe['PRODUCTLINE'].unique()"
      ],
      "metadata": {
        "colab": {
          "base_uri": "https://localhost:8080/"
        },
        "id": "msgplMXqZtFg",
        "outputId": "30fd983d-4068-4ea8-dcda-2c7a399d5fb4"
      },
      "execution_count": null,
      "outputs": [
        {
          "output_type": "execute_result",
          "data": {
            "text/plain": [
              "array([1, 0, 5, 6, 2, 3, 4])"
            ]
          },
          "metadata": {},
          "execution_count": 81
        }
      ]
    },
    {
      "cell_type": "code",
      "source": [
        "dataframe['DEALSIZE']=label_encoder.fit_transform(dataframe['DEALSIZE'])\n",
        "dataframe['DEALSIZE'].unique()"
      ],
      "metadata": {
        "colab": {
          "base_uri": "https://localhost:8080/"
        },
        "id": "HGf3r3jCaL5A",
        "outputId": "3a2fb3b3-dfe7-4b05-ae97-3bb95d2d04dc"
      },
      "execution_count": null,
      "outputs": [
        {
          "output_type": "execute_result",
          "data": {
            "text/plain": [
              "array([2, 1, 0])"
            ]
          },
          "metadata": {},
          "execution_count": 82
        }
      ]
    },
    {
      "cell_type": "code",
      "source": [
        "X=dataframe.drop(columns=['DEALSIZE','PRODUCTCODE','Customer_SK','COUNTRY', 'ORDERLINENUMBER','Product_SK'])\n",
        "y=dataframe['DEALSIZE']\n",
        "\n",
        "X=X.to_numpy()\n",
        "y=y.to_numpy()"
      ],
      "metadata": {
        "id": "GAoB0_Q6Zvve"
      },
      "execution_count": null,
      "outputs": []
    },
    {
      "cell_type": "code",
      "source": [
        "from sklearn.preprocessing import MinMaxScaler\n",
        "\n",
        "scaler=MinMaxScaler(feature_range=(0,1))\n",
        "\n",
        "X=scaler.fit_transform(X)\n",
        "print(X)\n",
        "\n",
        "# y=y/2.0\n",
        "\n",
        "# print(y)\n",
        "\n",
        "from keras.utils import to_categorical\n",
        "y= to_categorical(y, 3)\n",
        "\n",
        "print(y)\n"
      ],
      "metadata": {
        "colab": {
          "base_uri": "https://localhost:8080/"
        },
        "id": "1BTkP0BDeuZ-",
        "outputId": "ac189dc2-deab-4106-f5ca-bf3b935ab4a0"
      },
      "execution_count": null,
      "outputs": [
        {
          "output_type": "stream",
          "name": "stdout",
          "text": [
            "[[0.26373626 0.94119256 0.17564355 ... 0.16666667 0.34254144 1.        ]\n",
            " [0.30769231 0.74493982 0.16791599 ... 0.16666667 0.34254144 1.        ]\n",
            " [0.38461538 0.92806346 0.25015018 ... 0.16666667 0.34254144 1.        ]\n",
            " ...\n",
            " [0.40659341 1.         0.36288212 ... 0.5        0.1160221  0.8       ]\n",
            " [0.30769231 0.48358862 0.12014335 ... 0.5        0.1160221  1.        ]\n",
            " [0.45054945 0.52844639 0.19096927 ... 0.5        0.1160221  0.6       ]]\n",
            "[[0. 0. 1.]\n",
            " [0. 0. 1.]\n",
            " [0. 1. 0.]\n",
            " ...\n",
            " [0. 1. 0.]\n",
            " [0. 0. 1.]\n",
            " [0. 1. 0.]]\n"
          ]
        }
      ]
    },
    {
      "cell_type": "code",
      "source": [
        "from sklearn.model_selection import train_test_split\n",
        "\n",
        "X_train, X_test, y_train, y_test=train_test_split(X,y, test_size=0.25, random_state=42)\n",
        "\n",
        "print(X_train.shape)\n",
        "print(X_test.shape)\n",
        "print(y_train.shape)\n",
        "print(y_test.shape)"
      ],
      "metadata": {
        "colab": {
          "base_uri": "https://localhost:8080/"
        },
        "id": "BRc1Txl_anh2",
        "outputId": "6dc522b7-ff29-464f-d6d5-aa2b58a914b3"
      },
      "execution_count": null,
      "outputs": [
        {
          "output_type": "stream",
          "name": "stdout",
          "text": [
            "(2117, 10)\n",
            "(706, 10)\n",
            "(2117, 3)\n",
            "(706, 3)\n"
          ]
        }
      ]
    },
    {
      "cell_type": "code",
      "source": [
        "print(y)"
      ],
      "metadata": {
        "colab": {
          "base_uri": "https://localhost:8080/"
        },
        "id": "GQtFBDFIfnzu",
        "outputId": "780dbaac-09f6-45b2-c7aa-97522c53cea7"
      },
      "execution_count": null,
      "outputs": [
        {
          "output_type": "stream",
          "name": "stdout",
          "text": [
            "[[0. 0. 1.]\n",
            " [0. 0. 1.]\n",
            " [0. 1. 0.]\n",
            " ...\n",
            " [0. 1. 0.]\n",
            " [0. 0. 1.]\n",
            " [0. 1. 0.]]\n"
          ]
        }
      ]
    },
    {
      "cell_type": "markdown",
      "source": [
        "creating a mlp"
      ],
      "metadata": {
        "id": "AzR6Uzv-oOM0"
      }
    },
    {
      "cell_type": "code",
      "source": [
        "import tensorflow as tf\n",
        "\n",
        "from tensorflow.keras.models import Sequential\n",
        "from tensorflow.keras.layers import Dense\n",
        "\n",
        "model=Sequential([\n",
        "    Dense(64, input_shape=(10,), activation='relu'),\n",
        "    Dense(32, activation='relu'),\n",
        "    Dense(3, activation='softmax')\n",
        "])"
      ],
      "metadata": {
        "id": "Xegah9iLdOiO"
      },
      "execution_count": null,
      "outputs": []
    },
    {
      "cell_type": "markdown",
      "source": [
        "optimization with hyperparameter (learning rate)"
      ],
      "metadata": {
        "id": "DGCSacHyoS6T"
      }
    },
    {
      "cell_type": "code",
      "source": [
        "\n",
        "from tensorflow.keras.optimizers import Adam\n",
        "\n",
        "model.compile(\n",
        "    optimizer=Adam(learning_rate=0.001),\n",
        "    loss='categorical_crossentropy',\n",
        "    metrics=['accuracy']\n",
        ")"
      ],
      "metadata": {
        "id": "hRWgaaWYerdV"
      },
      "execution_count": null,
      "outputs": []
    },
    {
      "cell_type": "code",
      "source": [
        "history=model.fit(\n",
        "    X_train,\n",
        "    y_train,\n",
        "    epochs=30,\n",
        "    validation_data=(X_test, y_test)\n",
        ")"
      ],
      "metadata": {
        "colab": {
          "base_uri": "https://localhost:8080/"
        },
        "id": "pPBq5NnSg_QV",
        "outputId": "5641cd32-985a-4f56-f176-cf479eb2758c"
      },
      "execution_count": null,
      "outputs": [
        {
          "output_type": "stream",
          "name": "stdout",
          "text": [
            "Epoch 1/30\n",
            "67/67 [==============================] - 1s 7ms/step - loss: 0.8269 - accuracy: 0.6117 - val_loss: 0.7699 - val_accuracy: 0.7351\n",
            "Epoch 2/30\n",
            "67/67 [==============================] - 0s 4ms/step - loss: 0.6538 - accuracy: 0.7685 - val_loss: 0.6430 - val_accuracy: 0.7507\n",
            "Epoch 3/30\n",
            "67/67 [==============================] - 0s 4ms/step - loss: 0.5359 - accuracy: 0.7870 - val_loss: 0.5359 - val_accuracy: 0.7776\n",
            "Epoch 4/30\n",
            "67/67 [==============================] - 0s 3ms/step - loss: 0.4528 - accuracy: 0.8096 - val_loss: 0.4299 - val_accuracy: 0.7989\n",
            "Epoch 5/30\n",
            "67/67 [==============================] - 0s 4ms/step - loss: 0.3746 - accuracy: 0.8413 - val_loss: 0.3530 - val_accuracy: 0.8385\n",
            "Epoch 6/30\n",
            "67/67 [==============================] - 0s 4ms/step - loss: 0.3101 - accuracy: 0.8810 - val_loss: 0.2865 - val_accuracy: 0.8839\n",
            "Epoch 7/30\n",
            "67/67 [==============================] - 0s 4ms/step - loss: 0.2603 - accuracy: 0.9079 - val_loss: 0.2351 - val_accuracy: 0.9221\n",
            "Epoch 8/30\n",
            "67/67 [==============================] - 0s 4ms/step - loss: 0.2228 - accuracy: 0.9211 - val_loss: 0.2052 - val_accuracy: 0.9348\n",
            "Epoch 9/30\n",
            "67/67 [==============================] - 0s 3ms/step - loss: 0.1959 - accuracy: 0.9381 - val_loss: 0.1747 - val_accuracy: 0.9391\n",
            "Epoch 10/30\n",
            "67/67 [==============================] - 0s 4ms/step - loss: 0.1710 - accuracy: 0.9466 - val_loss: 0.1681 - val_accuracy: 0.9377\n",
            "Epoch 11/30\n",
            "67/67 [==============================] - 0s 4ms/step - loss: 0.1564 - accuracy: 0.9513 - val_loss: 0.1428 - val_accuracy: 0.9547\n",
            "Epoch 12/30\n",
            "67/67 [==============================] - 0s 3ms/step - loss: 0.1416 - accuracy: 0.9565 - val_loss: 0.1523 - val_accuracy: 0.9462\n",
            "Epoch 13/30\n",
            "67/67 [==============================] - 0s 4ms/step - loss: 0.1351 - accuracy: 0.9608 - val_loss: 0.1522 - val_accuracy: 0.9348\n",
            "Epoch 14/30\n",
            "67/67 [==============================] - 0s 3ms/step - loss: 0.1237 - accuracy: 0.9589 - val_loss: 0.1176 - val_accuracy: 0.9632\n",
            "Epoch 15/30\n",
            "67/67 [==============================] - 0s 4ms/step - loss: 0.1151 - accuracy: 0.9712 - val_loss: 0.1092 - val_accuracy: 0.9646\n",
            "Epoch 16/30\n",
            "67/67 [==============================] - 0s 4ms/step - loss: 0.1125 - accuracy: 0.9665 - val_loss: 0.1028 - val_accuracy: 0.9703\n",
            "Epoch 17/30\n",
            "67/67 [==============================] - 0s 3ms/step - loss: 0.1063 - accuracy: 0.9684 - val_loss: 0.1004 - val_accuracy: 0.9717\n",
            "Epoch 18/30\n",
            "67/67 [==============================] - 0s 4ms/step - loss: 0.0984 - accuracy: 0.9731 - val_loss: 0.1029 - val_accuracy: 0.9632\n",
            "Epoch 19/30\n",
            "67/67 [==============================] - 0s 4ms/step - loss: 0.0930 - accuracy: 0.9750 - val_loss: 0.0941 - val_accuracy: 0.9688\n",
            "Epoch 20/30\n",
            "67/67 [==============================] - 0s 4ms/step - loss: 0.0954 - accuracy: 0.9679 - val_loss: 0.0919 - val_accuracy: 0.9674\n",
            "Epoch 21/30\n",
            "67/67 [==============================] - 0s 4ms/step - loss: 0.0864 - accuracy: 0.9764 - val_loss: 0.1047 - val_accuracy: 0.9518\n",
            "Epoch 22/30\n",
            "67/67 [==============================] - 0s 4ms/step - loss: 0.1264 - accuracy: 0.9480 - val_loss: 0.0911 - val_accuracy: 0.9688\n",
            "Epoch 23/30\n",
            "67/67 [==============================] - 0s 4ms/step - loss: 0.0883 - accuracy: 0.9693 - val_loss: 0.0814 - val_accuracy: 0.9717\n",
            "Epoch 24/30\n",
            "67/67 [==============================] - 0s 4ms/step - loss: 0.0798 - accuracy: 0.9740 - val_loss: 0.0784 - val_accuracy: 0.9773\n",
            "Epoch 25/30\n",
            "67/67 [==============================] - 0s 4ms/step - loss: 0.0838 - accuracy: 0.9717 - val_loss: 0.0854 - val_accuracy: 0.9674\n",
            "Epoch 26/30\n",
            "67/67 [==============================] - 0s 4ms/step - loss: 0.0761 - accuracy: 0.9740 - val_loss: 0.0802 - val_accuracy: 0.9773\n",
            "Epoch 27/30\n",
            "67/67 [==============================] - 0s 4ms/step - loss: 0.0784 - accuracy: 0.9726 - val_loss: 0.0825 - val_accuracy: 0.9731\n",
            "Epoch 28/30\n",
            "67/67 [==============================] - 0s 4ms/step - loss: 0.0763 - accuracy: 0.9750 - val_loss: 0.0723 - val_accuracy: 0.9773\n",
            "Epoch 29/30\n",
            "67/67 [==============================] - 0s 4ms/step - loss: 0.0690 - accuracy: 0.9816 - val_loss: 0.0746 - val_accuracy: 0.9674\n",
            "Epoch 30/30\n",
            "67/67 [==============================] - 0s 3ms/step - loss: 0.0683 - accuracy: 0.9802 - val_loss: 0.0766 - val_accuracy: 0.9773\n"
          ]
        }
      ]
    },
    {
      "cell_type": "markdown",
      "source": [
        "validation accuracy"
      ],
      "metadata": {
        "id": "9WHQvYf0odDz"
      }
    },
    {
      "cell_type": "code",
      "source": [
        "test_loss, test_accuracy=model.evaluate(X_test, y_test)\n",
        "\n",
        "print(f\"Validation accuracy={test_accuracy}\\nValidation loss={test_loss}\")"
      ],
      "metadata": {
        "colab": {
          "base_uri": "https://localhost:8080/"
        },
        "id": "PXa12WXSmXec",
        "outputId": "f13acb43-6879-4d6b-9e52-39c56ae7f921"
      },
      "execution_count": null,
      "outputs": [
        {
          "output_type": "stream",
          "name": "stdout",
          "text": [
            "23/23 [==============================] - 0s 3ms/step - loss: 0.0766 - accuracy: 0.9773\n",
            "Validation accuracy=0.977337121963501\n",
            "Validation loss=0.07658121734857559\n"
          ]
        }
      ]
    },
    {
      "cell_type": "markdown",
      "source": [
        "graphing the metrics"
      ],
      "metadata": {
        "id": "2yUBH5mOojLF"
      }
    },
    {
      "cell_type": "code",
      "source": [
        "import matplotlib.pyplot as plt\n",
        "\n",
        "plt.plot(history.history['accuracy'], label='training acc')\n",
        "plt.plot(history.history['loss'], label='training loss')\n",
        "plt.plot(history.history['val_loss'], label='val loss')\n",
        "plt.plot(history.history['val_accuracy'], label='val acc')\n",
        "\n",
        "plt.legend()\n",
        "plt.show()"
      ],
      "metadata": {
        "colab": {
          "base_uri": "https://localhost:8080/",
          "height": 430
        },
        "id": "dOqXYj6Hm_n1",
        "outputId": "52885ec9-4e86-4b55-aa03-7a07ccc94787"
      },
      "execution_count": null,
      "outputs": [
        {
          "output_type": "display_data",
          "data": {
            "text/plain": [
              "<Figure size 640x480 with 1 Axes>"
            ],
            "image/png": "[encoded data removed]"
          },
          "metadata": {}
        }
      ]
    },
    {
      "cell_type": "code",
      "source": [
        "model.summary()"
      ],
      "metadata": {
        "colab": {
          "base_uri": "https://localhost:8080/"
        },
        "id": "yYmPXOTvswjx",
        "outputId": "173387ca-731a-4c5f-eb4d-ed85033c6823"
      },
      "execution_count": null,
      "outputs": [
        {
          "output_type": "stream",
          "name": "stdout",
          "text": [
            "Model: \"sequential_6\"\n",
            "_________________________________________________________________\n",
            " Layer (type)                Output Shape              Param #   \n",
            "=================================================================\n",
            " dense_19 (Dense)            (None, 64)                704       \n",
            "                                                                 \n",
            " dense_20 (Dense)            (None, 32)                2080      \n",
            "                                                                 \n",
            " dense_21 (Dense)            (None, 3)                 99        \n",
            "                                                                 \n",
            "=================================================================\n",
            "Total params: 2883 (11.26 KB)\n",
            "Trainable params: 2883 (11.26 KB)\n",
            "Non-trainable params: 0 (0.00 Byte)\n",
            "_________________________________________________________________\n"
          ]
        }
      ]
    }
  ]
}