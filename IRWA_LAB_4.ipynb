{
  "nbformat": 4,
  "nbformat_minor": 0,
  "metadata": {
    "colab": {
      "provenance": [],
      "authorship_tag": "ABX9TyMdr7fnp9M8d8AcarWv18NM",
      "include_colab_link": true
    },
    "kernelspec": {
      "name": "python3",
      "display_name": "Python 3"
    },
    "language_info": {
      "name": "python"
    }
  },
  "cells": [
    {
      "cell_type": "markdown",
      "metadata": {
        "id": "view-in-github",
        "colab_type": "text"
      },
      "source": [
        "<a href=\"https://colab.research.google.com/github/IT21174230/ML-Journey/blob/main/IRWA_LAB_4.ipynb\" target=\"_parent\"><img src=\"https://colab.research.google.com/assets/colab-badge.svg\" alt=\"Open In Colab\"/></a>"
      ]
    },
    {
      "cell_type": "code",
      "execution_count": null,
      "metadata": {
        "colab": {
          "base_uri": "https://localhost:8080/"
        },
        "id": "8NhYxpz2rNRE",
        "outputId": "a7943ec3-18a2-4757-d83a-5d99d2701ede"
      },
      "outputs": [
        {
          "output_type": "stream",
          "name": "stdout",
          "text": [
            "Mounted at /content/drive\n"
          ]
        }
      ],
      "source": [
        "from google.colab import drive\n",
        "drive.mount('/content/drive')"
      ]
    },
    {
      "cell_type": "code",
      "source": [
        "doc1='the man went out for a walk'\n",
        "doc2='the children sat around the fire'"
      ],
      "metadata": {
        "id": "K6YiEbUlsiUt"
      },
      "execution_count": null,
      "outputs": []
    },
    {
      "cell_type": "code",
      "source": [
        "from sklearn.feature_extraction.text import TfidfVectorizer\n",
        "from sklearn.metrics.pairwise import cosine_similarity"
      ],
      "metadata": {
        "id": "LTV_3USyt3lz"
      },
      "execution_count": null,
      "outputs": []
    },
    {
      "cell_type": "code",
      "source": [
        "corpus=[doc1, doc2]"
      ],
      "metadata": {
        "id": "YTThx3K3tpuZ"
      },
      "execution_count": null,
      "outputs": []
    },
    {
      "cell_type": "code",
      "source": [
        "vectorizer = TfidfVectorizer()"
      ],
      "metadata": {
        "id": "CJAMBH4Fuz7S"
      },
      "execution_count": null,
      "outputs": []
    },
    {
      "cell_type": "code",
      "source": [
        "x = vectorizer.fit_transform(corpus)\n",
        "print(x)"
      ],
      "metadata": {
        "colab": {
          "base_uri": "https://localhost:8080/"
        },
        "id": "rPi2oDTVu6X_",
        "outputId": "c9fe609b-68a1-4f2f-8d10-459add08877d"
      },
      "execution_count": null,
      "outputs": [
        {
          "output_type": "stream",
          "name": "stdout",
          "text": [
            "  (0, 8)\t0.42615959880289433\n",
            "  (0, 3)\t0.42615959880289433\n",
            "  (0, 5)\t0.42615959880289433\n",
            "  (0, 9)\t0.42615959880289433\n",
            "  (0, 4)\t0.42615959880289433\n",
            "  (0, 7)\t0.3032160644503863\n",
            "  (1, 2)\t0.40740123733358447\n",
            "  (1, 0)\t0.40740123733358447\n",
            "  (1, 6)\t0.40740123733358447\n",
            "  (1, 1)\t0.40740123733358447\n",
            "  (1, 7)\t0.5797386715376657\n"
          ]
        }
      ]
    },
    {
      "cell_type": "markdown",
      "source": [
        "(i, j) value format is used to store tf idf-> i = document, j = feature/token, value= tf idf value"
      ],
      "metadata": {
        "id": "-nPwSNlWQW26"
      }
    },
    {
      "cell_type": "code",
      "source": [
        "vectorizer.get_feature_names_out()"
      ],
      "metadata": {
        "colab": {
          "base_uri": "https://localhost:8080/"
        },
        "id": "0-kndyCivC7A",
        "outputId": "336dd7cf-5d06-4bd6-d1f8-d410905e602c"
      },
      "execution_count": null,
      "outputs": [
        {
          "output_type": "execute_result",
          "data": {
            "text/plain": [
              "array(['around', 'children', 'fire', 'for', 'man', 'out', 'sat', 'the',\n",
              "       'walk', 'went'], dtype=object)"
            ]
          },
          "metadata": {},
          "execution_count": 15
        }
      ]
    },
    {
      "cell_type": "code",
      "source": [
        "tfidf=x.toarray()\n",
        "print(tfidf)"
      ],
      "metadata": {
        "colab": {
          "base_uri": "https://localhost:8080/"
        },
        "id": "T6pWhm1Jvfuf",
        "outputId": "84bed273-748a-435c-f61b-1431813cbf78"
      },
      "execution_count": null,
      "outputs": [
        {
          "output_type": "stream",
          "name": "stdout",
          "text": [
            "[[0.         0.         0.         0.4261596  0.4261596  0.4261596\n",
            "  0.         0.30321606 0.4261596  0.4261596 ]\n",
            " [0.40740124 0.40740124 0.40740124 0.         0.         0.\n",
            "  0.40740124 0.57973867 0.         0.        ]]\n"
          ]
        }
      ]
    },
    {
      "cell_type": "markdown",
      "source": [
        "a numpy dense array with 2 rows representing 2 documents is outputted."
      ],
      "metadata": {
        "id": "8Arwajg-Rcuo"
      }
    },
    {
      "cell_type": "code",
      "source": [
        "print(tfidf[0])"
      ],
      "metadata": {
        "colab": {
          "base_uri": "https://localhost:8080/"
        },
        "id": "NeO-koB4yCHi",
        "outputId": "fb4484b5-4d1f-4464-d428-f6b318292f9b"
      },
      "execution_count": null,
      "outputs": [
        {
          "output_type": "stream",
          "name": "stdout",
          "text": [
            "[0.         0.         0.         0.4261596  0.4261596  0.4261596\n",
            " 0.         0.30321606 0.4261596  0.4261596 ]\n"
          ]
        }
      ]
    },
    {
      "cell_type": "code",
      "source": [
        "print(tfidf[1])"
      ],
      "metadata": {
        "colab": {
          "base_uri": "https://localhost:8080/"
        },
        "id": "yfaFsqOByI_U",
        "outputId": "cdde3242-a356-4d7f-e792-030494f8a46f"
      },
      "execution_count": null,
      "outputs": [
        {
          "output_type": "stream",
          "name": "stdout",
          "text": [
            "[0.40740124 0.40740124 0.40740124 0.         0.         0.\n",
            " 0.40740124 0.57973867 0.         0.        ]\n"
          ]
        }
      ]
    },
    {
      "cell_type": "code",
      "source": [
        "cs=cosine_similarity([tfidf[0]], [tfidf[1]])\n",
        "print(cs)"
      ],
      "metadata": {
        "colab": {
          "base_uri": "https://localhost:8080/"
        },
        "id": "r9TqRt9MyM6i",
        "outputId": "5e677d23-09d3-4f11-f737-5d23ab7a83d9"
      },
      "execution_count": null,
      "outputs": [
        {
          "output_type": "stream",
          "name": "stdout",
          "text": [
            "[[0.17578608]]\n"
          ]
        }
      ]
    }
  ]
}