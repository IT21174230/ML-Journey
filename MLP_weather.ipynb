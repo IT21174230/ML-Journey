{
  "nbformat": 4,
  "nbformat_minor": 0,
  "metadata": {
    "colab": {
      "provenance": [],
      "authorship_tag": "ABX9TyMd6I9ulo/SDZR2Vycq0dP3",
      "include_colab_link": true
    },
    "kernelspec": {
      "name": "python3",
      "display_name": "Python 3"
    },
    "language_info": {
      "name": "python"
    }
  },
  "cells": [
    {
      "cell_type": "markdown",
      "metadata": {
        "id": "view-in-github",
        "colab_type": "text"
      },
      "source": [
        "<a href=\"https://colab.research.google.com/github/IT21174230/ML-Journey/blob/main/MLP_weather.ipynb\" target=\"_parent\"><img src=\"https://colab.research.google.com/assets/colab-badge.svg\" alt=\"Open In Colab\"/></a>"
      ]
    },
    {
      "cell_type": "code",
      "execution_count": null,
      "metadata": {
        "colab": {
          "base_uri": "https://localhost:8080/"
        },
        "id": "Tttgj2ia0ZTd",
        "outputId": "4308fbb5-bbdc-4bd8-d2de-d7a29b246ad3"
      },
      "outputs": [
        {
          "output_type": "stream",
          "name": "stdout",
          "text": [
            "Mounted at /content/drive\n"
          ]
        }
      ],
      "source": [
        "from google.colab import drive\n",
        "drive.mount('/content/drive')"
      ]
    },
    {
      "cell_type": "code",
      "source": [
        "dataset='/content/weather.txt'\n",
        "\n",
        "import pandas as pd\n",
        "import numpy as np\n",
        "\n",
        "dataframe=pd.read_csv('weather.txt', delimiter=',')\n"
      ],
      "metadata": {
        "id": "zH1wf8hP0sBq"
      },
      "execution_count": null,
      "outputs": []
    },
    {
      "cell_type": "code",
      "source": [
        "X=dataframe.drop(columns=['S.No','date','Occupancy'])\n",
        "y=dataframe['Occupancy']\n",
        "\n",
        "print(X.shape)\n",
        "print(y.shape)\n",
        "print(X.dtypes)\n",
        "\n",
        "X=X.to_numpy()\n",
        "y=y.to_numpy()"
      ],
      "metadata": {
        "colab": {
          "base_uri": "https://localhost:8080/"
        },
        "id": "fm1xtM7z1yJp",
        "outputId": "af53e8d5-7c34-4284-b6a1-2c4adec04ac3"
      },
      "execution_count": null,
      "outputs": [
        {
          "output_type": "stream",
          "name": "stdout",
          "text": [
            "(8143, 5)\n",
            "(8143,)\n",
            "Temperature      float64\n",
            "Humidity         float64\n",
            "Light            float64\n",
            "CO2              float64\n",
            "HumidityRatio    float64\n",
            "dtype: object\n"
          ]
        }
      ]
    },
    {
      "cell_type": "code",
      "source": [
        "print(X)\n",
        "print(y)"
      ],
      "metadata": {
        "colab": {
          "base_uri": "https://localhost:8080/"
        },
        "id": "pAWZflfQ7Ou7",
        "outputId": "9f57a0b6-1c75-47eb-e6ca-ab564630888c"
      },
      "execution_count": null,
      "outputs": [
        {
          "output_type": "stream",
          "name": "stdout",
          "text": [
            "[[2.31800000e+01 2.72720000e+01 4.26000000e+02 7.21250000e+02\n",
            "  4.79298818e-03]\n",
            " [2.31500000e+01 2.72675000e+01 4.29500000e+02 7.14000000e+02\n",
            "  4.78344095e-03]\n",
            " [2.31500000e+01 2.72450000e+01 4.26000000e+02 7.13500000e+02\n",
            "  4.77946352e-03]\n",
            " ...\n",
            " [2.11000000e+01 3.60950000e+01 4.33000000e+02 7.98500000e+02\n",
            "  5.59563902e-03]\n",
            " [2.11000000e+01 3.62600000e+01 4.33000000e+02 8.20333333e+02\n",
            "  5.62144937e-03]\n",
            " [2.11000000e+01 3.62000000e+01 4.47000000e+02 8.21000000e+02\n",
            "  5.61206354e-03]]\n",
            "[1 1 1 ... 1 1 1]\n"
          ]
        }
      ]
    },
    {
      "cell_type": "code",
      "source": [
        "#rescale for performance\n",
        "from sklearn.preprocessing import MinMaxScaler\n",
        "\n",
        "scalar=MinMaxScaler(feature_range=(0,1))\n",
        "X=scalar.fit_transform(X)"
      ],
      "metadata": {
        "id": "4X41UbnQ7fM4"
      },
      "execution_count": null,
      "outputs": []
    },
    {
      "cell_type": "code",
      "source": [
        "from sklearn.model_selection import train_test_split\n",
        "\n",
        "X_train, X_test, y_train, y_test =train_test_split(X,y, test_size=0.25, random_state=42)\n",
        "\n",
        "print(X_train.shape)\n",
        "print(X_test.shape)\n",
        "print(y_train.shape)"
      ],
      "metadata": {
        "colab": {
          "base_uri": "https://localhost:8080/"
        },
        "id": "sRMVaO_C86Vy",
        "outputId": "f509e779-118b-45ab-cbb6-0cfa1463ab1b"
      },
      "execution_count": null,
      "outputs": [
        {
          "output_type": "stream",
          "name": "stdout",
          "text": [
            "(6107, 5)\n",
            "(2036, 5)\n",
            "(6107,)\n"
          ]
        }
      ]
    },
    {
      "cell_type": "code",
      "source": [
        "import tensorflow as tf\n",
        "from tensorflow.keras.models import Sequential\n",
        "from tensorflow.keras.layers import Dense\n",
        "\n",
        "model=Sequential([\n",
        "   Dense(64, activation='relu', input_shape=(5,)),\n",
        "   Dense(32, activation='relu'),\n",
        "   Dense(1, activation='sigmoid')\n",
        "])\n",
        "\n",
        "model.summary()\n"
      ],
      "metadata": {
        "colab": {
          "base_uri": "https://localhost:8080/"
        },
        "id": "PvhVBueI2qnw",
        "outputId": "ba67eda6-e64b-4581-c97b-53d40e1a07ea"
      },
      "execution_count": null,
      "outputs": [
        {
          "output_type": "stream",
          "name": "stdout",
          "text": [
            "Model: \"sequential_1\"\n",
            "_________________________________________________________________\n",
            " Layer (type)                Output Shape              Param #   \n",
            "=================================================================\n",
            " dense_3 (Dense)             (None, 64)                384       \n",
            "                                                                 \n",
            " dense_4 (Dense)             (None, 32)                2080      \n",
            "                                                                 \n",
            " dense_5 (Dense)             (None, 1)                 33        \n",
            "                                                                 \n",
            "=================================================================\n",
            "Total params: 2,497\n",
            "Trainable params: 2,497\n",
            "Non-trainable params: 0\n",
            "_________________________________________________________________\n"
          ]
        }
      ]
    },
    {
      "cell_type": "code",
      "source": [
        "from keras.engine.training import optimizer\n",
        "from tensorflow.keras.optimizers import Adam\n",
        "\n",
        "model.compile(\n",
        "    optimizer=Adam(learning_rate=0.0001),\n",
        "    loss='binary_crossentropy',\n",
        "    metrics=['accuracy']\n",
        ")"
      ],
      "metadata": {
        "id": "YwB0jkNq-hy2"
      },
      "execution_count": null,
      "outputs": []
    },
    {
      "cell_type": "code",
      "source": [
        "history=model.fit(\n",
        "    X_train, y_train, epochs=100, validation_data=(X_test, y_test)\n",
        ")"
      ],
      "metadata": {
        "colab": {
          "base_uri": "https://localhost:8080/"
        },
        "id": "6KVUStyc_ymm",
        "outputId": "8410122a-ea52-436a-dbfd-e23aada4c555"
      },
      "execution_count": null,
      "outputs": [
        {
          "output_type": "stream",
          "name": "stdout",
          "text": [
            "Epoch 1/100\n",
            "191/191 [==============================] - 1s 3ms/step - loss: 0.0199 - accuracy: 0.9923 - val_loss: 0.0251 - val_accuracy: 0.9892\n",
            "Epoch 2/100\n",
            "191/191 [==============================] - 0s 2ms/step - loss: 0.0198 - accuracy: 0.9923 - val_loss: 0.0250 - val_accuracy: 0.9892\n",
            "Epoch 3/100\n",
            "191/191 [==============================] - 0s 2ms/step - loss: 0.0197 - accuracy: 0.9923 - val_loss: 0.0249 - val_accuracy: 0.9897\n",
            "Epoch 4/100\n",
            "191/191 [==============================] - 0s 2ms/step - loss: 0.0196 - accuracy: 0.9925 - val_loss: 0.0247 - val_accuracy: 0.9912\n",
            "Epoch 5/100\n",
            "191/191 [==============================] - 0s 3ms/step - loss: 0.0196 - accuracy: 0.9923 - val_loss: 0.0246 - val_accuracy: 0.9912\n",
            "Epoch 6/100\n",
            "191/191 [==============================] - 1s 3ms/step - loss: 0.0195 - accuracy: 0.9931 - val_loss: 0.0246 - val_accuracy: 0.9912\n",
            "Epoch 7/100\n",
            "191/191 [==============================] - 0s 3ms/step - loss: 0.0195 - accuracy: 0.9930 - val_loss: 0.0245 - val_accuracy: 0.9912\n",
            "Epoch 8/100\n",
            "191/191 [==============================] - 0s 2ms/step - loss: 0.0194 - accuracy: 0.9933 - val_loss: 0.0245 - val_accuracy: 0.9912\n",
            "Epoch 9/100\n",
            "191/191 [==============================] - 0s 3ms/step - loss: 0.0194 - accuracy: 0.9933 - val_loss: 0.0244 - val_accuracy: 0.9912\n",
            "Epoch 10/100\n",
            "191/191 [==============================] - 0s 2ms/step - loss: 0.0193 - accuracy: 0.9930 - val_loss: 0.0244 - val_accuracy: 0.9912\n",
            "Epoch 11/100\n",
            "191/191 [==============================] - 0s 3ms/step - loss: 0.0193 - accuracy: 0.9933 - val_loss: 0.0244 - val_accuracy: 0.9912\n",
            "Epoch 12/100\n",
            "191/191 [==============================] - 1s 3ms/step - loss: 0.0193 - accuracy: 0.9935 - val_loss: 0.0244 - val_accuracy: 0.9912\n",
            "Epoch 13/100\n",
            "191/191 [==============================] - 0s 2ms/step - loss: 0.0192 - accuracy: 0.9935 - val_loss: 0.0244 - val_accuracy: 0.9912\n",
            "Epoch 14/100\n",
            "191/191 [==============================] - 0s 3ms/step - loss: 0.0192 - accuracy: 0.9935 - val_loss: 0.0243 - val_accuracy: 0.9912\n",
            "Epoch 15/100\n",
            "191/191 [==============================] - 0s 2ms/step - loss: 0.0192 - accuracy: 0.9935 - val_loss: 0.0243 - val_accuracy: 0.9912\n",
            "Epoch 16/100\n",
            "191/191 [==============================] - 0s 2ms/step - loss: 0.0191 - accuracy: 0.9935 - val_loss: 0.0243 - val_accuracy: 0.9912\n",
            "Epoch 17/100\n",
            "191/191 [==============================] - 0s 3ms/step - loss: 0.0191 - accuracy: 0.9935 - val_loss: 0.0243 - val_accuracy: 0.9912\n",
            "Epoch 18/100\n",
            "191/191 [==============================] - 0s 2ms/step - loss: 0.0191 - accuracy: 0.9933 - val_loss: 0.0243 - val_accuracy: 0.9912\n",
            "Epoch 19/100\n",
            "191/191 [==============================] - 0s 2ms/step - loss: 0.0191 - accuracy: 0.9935 - val_loss: 0.0243 - val_accuracy: 0.9912\n",
            "Epoch 20/100\n",
            "191/191 [==============================] - 1s 3ms/step - loss: 0.0191 - accuracy: 0.9935 - val_loss: 0.0243 - val_accuracy: 0.9912\n",
            "Epoch 21/100\n",
            "191/191 [==============================] - 1s 3ms/step - loss: 0.0190 - accuracy: 0.9933 - val_loss: 0.0243 - val_accuracy: 0.9917\n",
            "Epoch 22/100\n",
            "191/191 [==============================] - 1s 3ms/step - loss: 0.0190 - accuracy: 0.9933 - val_loss: 0.0243 - val_accuracy: 0.9917\n",
            "Epoch 23/100\n",
            "191/191 [==============================] - 1s 3ms/step - loss: 0.0190 - accuracy: 0.9935 - val_loss: 0.0243 - val_accuracy: 0.9917\n",
            "Epoch 24/100\n",
            "191/191 [==============================] - 1s 3ms/step - loss: 0.0190 - accuracy: 0.9935 - val_loss: 0.0243 - val_accuracy: 0.9912\n",
            "Epoch 25/100\n",
            "191/191 [==============================] - 1s 3ms/step - loss: 0.0190 - accuracy: 0.9935 - val_loss: 0.0244 - val_accuracy: 0.9912\n",
            "Epoch 26/100\n",
            "191/191 [==============================] - 1s 3ms/step - loss: 0.0190 - accuracy: 0.9935 - val_loss: 0.0244 - val_accuracy: 0.9912\n",
            "Epoch 27/100\n",
            "191/191 [==============================] - 1s 3ms/step - loss: 0.0190 - accuracy: 0.9935 - val_loss: 0.0244 - val_accuracy: 0.9912\n",
            "Epoch 28/100\n",
            "191/191 [==============================] - 0s 2ms/step - loss: 0.0190 - accuracy: 0.9935 - val_loss: 0.0244 - val_accuracy: 0.9912\n",
            "Epoch 29/100\n",
            "191/191 [==============================] - 0s 2ms/step - loss: 0.0189 - accuracy: 0.9936 - val_loss: 0.0245 - val_accuracy: 0.9912\n",
            "Epoch 30/100\n",
            "191/191 [==============================] - 1s 5ms/step - loss: 0.0189 - accuracy: 0.9935 - val_loss: 0.0244 - val_accuracy: 0.9912\n",
            "Epoch 31/100\n",
            "191/191 [==============================] - 1s 6ms/step - loss: 0.0189 - accuracy: 0.9935 - val_loss: 0.0245 - val_accuracy: 0.9912\n",
            "Epoch 32/100\n",
            "191/191 [==============================] - 1s 5ms/step - loss: 0.0189 - accuracy: 0.9936 - val_loss: 0.0245 - val_accuracy: 0.9912\n",
            "Epoch 33/100\n",
            "191/191 [==============================] - 1s 3ms/step - loss: 0.0189 - accuracy: 0.9936 - val_loss: 0.0244 - val_accuracy: 0.9912\n",
            "Epoch 34/100\n",
            "191/191 [==============================] - 0s 2ms/step - loss: 0.0189 - accuracy: 0.9936 - val_loss: 0.0245 - val_accuracy: 0.9912\n",
            "Epoch 35/100\n",
            "191/191 [==============================] - 0s 2ms/step - loss: 0.0189 - accuracy: 0.9936 - val_loss: 0.0245 - val_accuracy: 0.9912\n",
            "Epoch 36/100\n",
            "191/191 [==============================] - 0s 2ms/step - loss: 0.0188 - accuracy: 0.9936 - val_loss: 0.0245 - val_accuracy: 0.9912\n",
            "Epoch 37/100\n",
            "191/191 [==============================] - 0s 2ms/step - loss: 0.0188 - accuracy: 0.9936 - val_loss: 0.0246 - val_accuracy: 0.9912\n",
            "Epoch 38/100\n",
            "191/191 [==============================] - 1s 3ms/step - loss: 0.0188 - accuracy: 0.9936 - val_loss: 0.0244 - val_accuracy: 0.9912\n",
            "Epoch 39/100\n",
            "191/191 [==============================] - 1s 3ms/step - loss: 0.0188 - accuracy: 0.9936 - val_loss: 0.0245 - val_accuracy: 0.9912\n",
            "Epoch 40/100\n",
            "191/191 [==============================] - 0s 3ms/step - loss: 0.0188 - accuracy: 0.9936 - val_loss: 0.0246 - val_accuracy: 0.9912\n",
            "Epoch 41/100\n",
            "191/191 [==============================] - 0s 2ms/step - loss: 0.0188 - accuracy: 0.9936 - val_loss: 0.0246 - val_accuracy: 0.9912\n",
            "Epoch 42/100\n",
            "191/191 [==============================] - 1s 3ms/step - loss: 0.0187 - accuracy: 0.9936 - val_loss: 0.0245 - val_accuracy: 0.9912\n",
            "Epoch 43/100\n",
            "191/191 [==============================] - 0s 2ms/step - loss: 0.0187 - accuracy: 0.9936 - val_loss: 0.0246 - val_accuracy: 0.9912\n",
            "Epoch 44/100\n",
            "191/191 [==============================] - 0s 3ms/step - loss: 0.0187 - accuracy: 0.9936 - val_loss: 0.0246 - val_accuracy: 0.9912\n",
            "Epoch 45/100\n",
            "191/191 [==============================] - 1s 6ms/step - loss: 0.0187 - accuracy: 0.9936 - val_loss: 0.0246 - val_accuracy: 0.9912\n",
            "Epoch 46/100\n",
            "191/191 [==============================] - 2s 10ms/step - loss: 0.0187 - accuracy: 0.9935 - val_loss: 0.0246 - val_accuracy: 0.9912\n",
            "Epoch 47/100\n",
            "191/191 [==============================] - 1s 5ms/step - loss: 0.0187 - accuracy: 0.9935 - val_loss: 0.0246 - val_accuracy: 0.9912\n",
            "Epoch 48/100\n",
            "191/191 [==============================] - 1s 6ms/step - loss: 0.0186 - accuracy: 0.9935 - val_loss: 0.0247 - val_accuracy: 0.9912\n",
            "Epoch 49/100\n",
            "191/191 [==============================] - 1s 4ms/step - loss: 0.0186 - accuracy: 0.9938 - val_loss: 0.0247 - val_accuracy: 0.9912\n",
            "Epoch 50/100\n",
            "191/191 [==============================] - 1s 5ms/step - loss: 0.0186 - accuracy: 0.9936 - val_loss: 0.0248 - val_accuracy: 0.9912\n",
            "Epoch 51/100\n",
            "191/191 [==============================] - 0s 3ms/step - loss: 0.0186 - accuracy: 0.9936 - val_loss: 0.0247 - val_accuracy: 0.9912\n",
            "Epoch 52/100\n",
            "191/191 [==============================] - 1s 5ms/step - loss: 0.0186 - accuracy: 0.9935 - val_loss: 0.0249 - val_accuracy: 0.9912\n",
            "Epoch 53/100\n",
            "191/191 [==============================] - 1s 3ms/step - loss: 0.0186 - accuracy: 0.9936 - val_loss: 0.0248 - val_accuracy: 0.9912\n",
            "Epoch 54/100\n",
            "191/191 [==============================] - 1s 5ms/step - loss: 0.0186 - accuracy: 0.9936 - val_loss: 0.0249 - val_accuracy: 0.9912\n",
            "Epoch 55/100\n",
            "191/191 [==============================] - 1s 5ms/step - loss: 0.0185 - accuracy: 0.9935 - val_loss: 0.0248 - val_accuracy: 0.9912\n",
            "Epoch 56/100\n",
            "191/191 [==============================] - 1s 4ms/step - loss: 0.0185 - accuracy: 0.9935 - val_loss: 0.0249 - val_accuracy: 0.9912\n",
            "Epoch 57/100\n",
            "191/191 [==============================] - 1s 5ms/step - loss: 0.0185 - accuracy: 0.9936 - val_loss: 0.0250 - val_accuracy: 0.9912\n",
            "Epoch 58/100\n",
            "191/191 [==============================] - 1s 3ms/step - loss: 0.0185 - accuracy: 0.9930 - val_loss: 0.0250 - val_accuracy: 0.9912\n",
            "Epoch 59/100\n",
            "191/191 [==============================] - 1s 3ms/step - loss: 0.0185 - accuracy: 0.9936 - val_loss: 0.0250 - val_accuracy: 0.9912\n",
            "Epoch 60/100\n",
            "191/191 [==============================] - 1s 4ms/step - loss: 0.0184 - accuracy: 0.9936 - val_loss: 0.0251 - val_accuracy: 0.9912\n",
            "Epoch 61/100\n",
            "191/191 [==============================] - 1s 6ms/step - loss: 0.0184 - accuracy: 0.9935 - val_loss: 0.0251 - val_accuracy: 0.9907\n",
            "Epoch 62/100\n",
            "191/191 [==============================] - 1s 6ms/step - loss: 0.0184 - accuracy: 0.9936 - val_loss: 0.0252 - val_accuracy: 0.9907\n",
            "Epoch 63/100\n",
            "191/191 [==============================] - 1s 6ms/step - loss: 0.0184 - accuracy: 0.9936 - val_loss: 0.0252 - val_accuracy: 0.9907\n",
            "Epoch 64/100\n",
            "191/191 [==============================] - 1s 7ms/step - loss: 0.0184 - accuracy: 0.9935 - val_loss: 0.0252 - val_accuracy: 0.9907\n",
            "Epoch 65/100\n",
            "191/191 [==============================] - 1s 6ms/step - loss: 0.0184 - accuracy: 0.9933 - val_loss: 0.0253 - val_accuracy: 0.9907\n",
            "Epoch 66/100\n",
            "191/191 [==============================] - 1s 4ms/step - loss: 0.0184 - accuracy: 0.9933 - val_loss: 0.0252 - val_accuracy: 0.9907\n",
            "Epoch 67/100\n",
            "191/191 [==============================] - 1s 4ms/step - loss: 0.0183 - accuracy: 0.9933 - val_loss: 0.0253 - val_accuracy: 0.9907\n",
            "Epoch 68/100\n",
            "191/191 [==============================] - 1s 3ms/step - loss: 0.0183 - accuracy: 0.9936 - val_loss: 0.0252 - val_accuracy: 0.9907\n",
            "Epoch 69/100\n",
            "191/191 [==============================] - 0s 2ms/step - loss: 0.0183 - accuracy: 0.9935 - val_loss: 0.0253 - val_accuracy: 0.9907\n",
            "Epoch 70/100\n",
            "191/191 [==============================] - 1s 3ms/step - loss: 0.0183 - accuracy: 0.9935 - val_loss: 0.0253 - val_accuracy: 0.9907\n",
            "Epoch 71/100\n",
            "191/191 [==============================] - 1s 3ms/step - loss: 0.0183 - accuracy: 0.9931 - val_loss: 0.0253 - val_accuracy: 0.9907\n",
            "Epoch 72/100\n",
            "191/191 [==============================] - 0s 3ms/step - loss: 0.0183 - accuracy: 0.9936 - val_loss: 0.0253 - val_accuracy: 0.9907\n",
            "Epoch 73/100\n",
            "191/191 [==============================] - 0s 2ms/step - loss: 0.0183 - accuracy: 0.9935 - val_loss: 0.0254 - val_accuracy: 0.9907\n",
            "Epoch 74/100\n",
            "191/191 [==============================] - 0s 3ms/step - loss: 0.0183 - accuracy: 0.9933 - val_loss: 0.0254 - val_accuracy: 0.9907\n",
            "Epoch 75/100\n",
            "191/191 [==============================] - 1s 3ms/step - loss: 0.0182 - accuracy: 0.9935 - val_loss: 0.0254 - val_accuracy: 0.9907\n",
            "Epoch 76/100\n",
            "191/191 [==============================] - 0s 2ms/step - loss: 0.0182 - accuracy: 0.9935 - val_loss: 0.0255 - val_accuracy: 0.9907\n",
            "Epoch 77/100\n",
            "191/191 [==============================] - 1s 3ms/step - loss: 0.0182 - accuracy: 0.9935 - val_loss: 0.0255 - val_accuracy: 0.9907\n",
            "Epoch 78/100\n",
            "191/191 [==============================] - 0s 2ms/step - loss: 0.0182 - accuracy: 0.9933 - val_loss: 0.0255 - val_accuracy: 0.9907\n",
            "Epoch 79/100\n",
            "191/191 [==============================] - 0s 2ms/step - loss: 0.0182 - accuracy: 0.9933 - val_loss: 0.0255 - val_accuracy: 0.9907\n",
            "Epoch 80/100\n",
            "191/191 [==============================] - 0s 2ms/step - loss: 0.0182 - accuracy: 0.9933 - val_loss: 0.0256 - val_accuracy: 0.9907\n",
            "Epoch 81/100\n",
            "191/191 [==============================] - 0s 3ms/step - loss: 0.0182 - accuracy: 0.9933 - val_loss: 0.0255 - val_accuracy: 0.9907\n",
            "Epoch 82/100\n",
            "191/191 [==============================] - 0s 2ms/step - loss: 0.0182 - accuracy: 0.9933 - val_loss: 0.0255 - val_accuracy: 0.9907\n",
            "Epoch 83/100\n",
            "191/191 [==============================] - 1s 3ms/step - loss: 0.0182 - accuracy: 0.9933 - val_loss: 0.0255 - val_accuracy: 0.9907\n",
            "Epoch 84/100\n",
            "191/191 [==============================] - 1s 4ms/step - loss: 0.0182 - accuracy: 0.9933 - val_loss: 0.0255 - val_accuracy: 0.9907\n",
            "Epoch 85/100\n",
            "191/191 [==============================] - 1s 4ms/step - loss: 0.0182 - accuracy: 0.9935 - val_loss: 0.0255 - val_accuracy: 0.9907\n",
            "Epoch 86/100\n",
            "191/191 [==============================] - 1s 3ms/step - loss: 0.0182 - accuracy: 0.9933 - val_loss: 0.0256 - val_accuracy: 0.9907\n",
            "Epoch 87/100\n",
            "191/191 [==============================] - 1s 3ms/step - loss: 0.0181 - accuracy: 0.9933 - val_loss: 0.0256 - val_accuracy: 0.9907\n",
            "Epoch 88/100\n",
            "191/191 [==============================] - 1s 4ms/step - loss: 0.0182 - accuracy: 0.9935 - val_loss: 0.0255 - val_accuracy: 0.9907\n",
            "Epoch 89/100\n",
            "191/191 [==============================] - 1s 3ms/step - loss: 0.0182 - accuracy: 0.9936 - val_loss: 0.0256 - val_accuracy: 0.9907\n",
            "Epoch 90/100\n",
            "191/191 [==============================] - 0s 3ms/step - loss: 0.0181 - accuracy: 0.9933 - val_loss: 0.0256 - val_accuracy: 0.9907\n",
            "Epoch 91/100\n",
            "191/191 [==============================] - 1s 3ms/step - loss: 0.0181 - accuracy: 0.9935 - val_loss: 0.0255 - val_accuracy: 0.9907\n",
            "Epoch 92/100\n",
            "191/191 [==============================] - 0s 3ms/step - loss: 0.0181 - accuracy: 0.9933 - val_loss: 0.0256 - val_accuracy: 0.9907\n",
            "Epoch 93/100\n",
            "191/191 [==============================] - 0s 2ms/step - loss: 0.0181 - accuracy: 0.9936 - val_loss: 0.0256 - val_accuracy: 0.9907\n",
            "Epoch 94/100\n",
            "191/191 [==============================] - 0s 3ms/step - loss: 0.0181 - accuracy: 0.9935 - val_loss: 0.0256 - val_accuracy: 0.9907\n",
            "Epoch 95/100\n",
            "191/191 [==============================] - 1s 3ms/step - loss: 0.0181 - accuracy: 0.9933 - val_loss: 0.0256 - val_accuracy: 0.9907\n",
            "Epoch 96/100\n",
            "191/191 [==============================] - 0s 3ms/step - loss: 0.0181 - accuracy: 0.9935 - val_loss: 0.0256 - val_accuracy: 0.9907\n",
            "Epoch 97/100\n",
            "191/191 [==============================] - 0s 2ms/step - loss: 0.0181 - accuracy: 0.9938 - val_loss: 0.0256 - val_accuracy: 0.9907\n",
            "Epoch 98/100\n",
            "191/191 [==============================] - 0s 2ms/step - loss: 0.0181 - accuracy: 0.9933 - val_loss: 0.0256 - val_accuracy: 0.9907\n",
            "Epoch 99/100\n",
            "191/191 [==============================] - 0s 2ms/step - loss: 0.0181 - accuracy: 0.9935 - val_loss: 0.0256 - val_accuracy: 0.9907\n",
            "Epoch 100/100\n",
            "191/191 [==============================] - 1s 3ms/step - loss: 0.0181 - accuracy: 0.9933 - val_loss: 0.0257 - val_accuracy: 0.9907\n"
          ]
        }
      ]
    },
    {
      "cell_type": "code",
      "source": [
        "test_loss, test_accuracy=model.evaluate(X_test, y_test)\n",
        "\n",
        "print(f\"Test Loss:{test_loss}\\nTest Accuracy:{test_accuracy}\")"
      ],
      "metadata": {
        "colab": {
          "base_uri": "https://localhost:8080/"
        },
        "id": "gTYrX03GAaHY",
        "outputId": "1be3a485-2491-439f-f861-f9e603d66416"
      },
      "execution_count": null,
      "outputs": [
        {
          "output_type": "stream",
          "name": "stdout",
          "text": [
            "64/64 [==============================] - 0s 1ms/step - loss: 0.0257 - accuracy: 0.9907\n",
            "Test Loss:0.02567894756793976\n",
            "Test Accuracy:0.990667998790741\n"
          ]
        }
      ]
    },
    {
      "cell_type": "code",
      "source": [
        "import matplotlib.pyplot as plt\n",
        "\n",
        "print(history)\n",
        "\n",
        "plt.plot(history.history['accuracy'], label='Train accuracy')\n",
        "plt.plot(history.history['loss'], label='Train Loss')\n",
        "plt.plot(history.history['val_accuracy'], label='validation accuracy')\n",
        "plt.plot(history.history['val_loss'], label='validation loss')\n",
        "plt.legend()\n",
        "plt.title('loss and accuracy metrics')\n",
        "plt.show()\n",
        "plt.savefig('metrics')"
      ],
      "metadata": {
        "colab": {
          "base_uri": "https://localhost:8080/",
          "height": 487
        },
        "id": "Ps6UEyQEF0BT",
        "outputId": "cd484ed8-ccc6-4f6e-dc6c-bc909c5a7e2f"
      },
      "execution_count": null,
      "outputs": [
        {
          "output_type": "stream",
          "name": "stdout",
          "text": [
            "<keras.callbacks.History object at 0x7f3c1c475f30>\n"
          ]
        },
        {
          "output_type": "display_data",
          "data": {
            "text/plain": [
              "<Figure size 640x480 with 1 Axes>"
            ],
            "image/png": "[encoded data removed]"
          },
          "metadata": {}
        },
        {
          "output_type": "display_data",
          "data": {
            "text/plain": [
              "<Figure size 640x480 with 0 Axes>"
            ]
          },
          "metadata": {}
        }
      ]
    }
  ]
}