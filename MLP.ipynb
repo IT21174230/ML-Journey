{
  "nbformat": 4,
  "nbformat_minor": 0,
  "metadata": {
    "colab": {
      "provenance": [],
      "authorship_tag": "ABX9TyOwcvchXk14AyYLD4uY6IFe",
      "include_colab_link": true
    },
    "kernelspec": {
      "name": "python3",
      "display_name": "Python 3"
    },
    "language_info": {
      "name": "python"
    }
  },
  "cells": [
    {
      "cell_type": "markdown",
      "metadata": {
        "id": "view-in-github",
        "colab_type": "text"
      },
      "source": [
        "<a href=\"https://colab.research.google.com/github/IT21174230/ML-Journey/blob/main/MLP.ipynb\" target=\"_parent\"><img src=\"https://colab.research.google.com/assets/colab-badge.svg\" alt=\"Open In Colab\"/></a>"
      ]
    },
    {
      "cell_type": "markdown",
      "source": [
        "MLP FOR BINARY CLASS CLASSIFICATION"
      ],
      "metadata": {
        "id": "bbdeTz-tEgAI"
      }
    },
    {
      "cell_type": "code",
      "execution_count": 1,
      "metadata": {
        "colab": {
          "base_uri": "https://localhost:8080/"
        },
        "id": "wRcTjqk9EZNc",
        "outputId": "9a57a960-304a-4a77-fa8e-fcf8e5e7fcb4"
      },
      "outputs": [
        {
          "output_type": "stream",
          "name": "stdout",
          "text": [
            "Mounted at /content/drive\n"
          ]
        }
      ],
      "source": [
        "from google.colab import drive\n",
        "drive.mount('/content/drive')"
      ]
    },
    {
      "cell_type": "code",
      "source": [
        "import tensorflow as tf\n",
        "import pandas as pd\n",
        "\n",
        "csv_file_path='/content/drive/MyDrive/heart.csv'"
      ],
      "metadata": {
        "id": "OX9SrPemNsXK"
      },
      "execution_count": 2,
      "outputs": []
    },
    {
      "cell_type": "code",
      "source": [
        "df=pd.read_csv(csv_file_path)\n",
        "X=df.drop(columns=['output'])\n",
        "y=df['output']"
      ],
      "metadata": {
        "id": "qxPyY9JrOL3O"
      },
      "execution_count": 9,
      "outputs": []
    },
    {
      "cell_type": "code",
      "source": [
        "from sklearn.model_selection import train_test_split\n",
        "X_train,X_test, y_train,y_test= train_test_split(X, y,test_size=0.25, random_state=42)\n",
        "# results in pandas dataframes\n",
        "\n",
        "print(X_train.shape)\n",
        "print(y_train.shape)\n",
        "print(X_test.shape)\n",
        "print(y_test.shape)"
      ],
      "metadata": {
        "id": "JMtMFgzpOmgg",
        "colab": {
          "base_uri": "https://localhost:8080/"
        },
        "outputId": "96bdc915-bd65-48c6-bb7c-4021f7581f29"
      },
      "execution_count": 10,
      "outputs": [
        {
          "output_type": "stream",
          "name": "stdout",
          "text": [
            "(227, 13)\n",
            "(227,)\n",
            "(76, 13)\n",
            "(76,)\n"
          ]
        }
      ]
    },
    {
      "cell_type": "code",
      "source": [
        "print(y_train)"
      ],
      "metadata": {
        "colab": {
          "base_uri": "https://localhost:8080/"
        },
        "id": "9PNEOUVFGBXb",
        "outputId": "ee041dea-a1d6-46c5-c668-e5f750e5aee3"
      },
      "execution_count": 11,
      "outputs": [
        {
          "output_type": "stream",
          "name": "stdout",
          "text": [
            "287    0\n",
            "282    0\n",
            "197    0\n",
            "158    1\n",
            "164    1\n",
            "      ..\n",
            "188    0\n",
            "71     1\n",
            "106    1\n",
            "270    0\n",
            "102    1\n",
            "Name: output, Length: 227, dtype: int64\n"
          ]
        }
      ]
    },
    {
      "cell_type": "code",
      "source": [
        "from tensorflow.keras.models import Sequential\n",
        "from tensorflow.keras.layers import Dense"
      ],
      "metadata": {
        "id": "Uo4aEPlUTRXn"
      },
      "execution_count": 12,
      "outputs": []
    },
    {
      "cell_type": "code",
      "source": [
        "model=tf.keras.Sequential([\n",
        "    tf.keras.layers.Dense(32, activation='relu', input_shape=(13,)),\n",
        "    tf.keras.layers.Dense(32, activation='relu'),\n",
        "    tf.keras.layers.Dense(1, activation='sigmoid')\n",
        "])"
      ],
      "metadata": {
        "id": "OOyR4MURTpw1"
      },
      "execution_count": 13,
      "outputs": []
    },
    {
      "cell_type": "code",
      "source": [
        "from tensorflow.keras.optimizers import Adam\n",
        "\n",
        "model.compile(\n",
        "    optimizer=Adam(learning_rate=0.0001),\n",
        "    loss='binary_crossentropy',\n",
        "    metrics=['accuracy']\n",
        ")"
      ],
      "metadata": {
        "id": "vQqt2zAE8NEM"
      },
      "execution_count": 27,
      "outputs": []
    },
    {
      "cell_type": "code",
      "source": [
        "history=model.fit(\n",
        "    x=X_train,\n",
        "    y=y_train,\n",
        "    epochs=50,\n",
        "    validation_data=(X_test, y_test)\n",
        ")"
      ],
      "metadata": {
        "colab": {
          "base_uri": "https://localhost:8080/"
        },
        "id": "7EjID4Cy8ku7",
        "outputId": "461dbc78-d801-406a-fc03-7c666e226884"
      },
      "execution_count": 28,
      "outputs": [
        {
          "output_type": "stream",
          "name": "stdout",
          "text": [
            "Epoch 1/50\n",
            "8/8 [==============================] - 1s 20ms/step - loss: 0.3932 - accuracy: 0.8370 - val_loss: 0.3741 - val_accuracy: 0.8684\n",
            "Epoch 2/50\n",
            "8/8 [==============================] - 0s 5ms/step - loss: 0.3746 - accuracy: 0.8546 - val_loss: 0.3773 - val_accuracy: 0.8947\n",
            "Epoch 3/50\n",
            "8/8 [==============================] - 0s 5ms/step - loss: 0.3672 - accuracy: 0.8458 - val_loss: 0.3947 - val_accuracy: 0.8553\n",
            "Epoch 4/50\n",
            "8/8 [==============================] - 0s 7ms/step - loss: 0.3653 - accuracy: 0.8326 - val_loss: 0.3882 - val_accuracy: 0.8553\n",
            "Epoch 5/50\n",
            "8/8 [==============================] - 0s 7ms/step - loss: 0.3610 - accuracy: 0.8414 - val_loss: 0.3818 - val_accuracy: 0.8684\n",
            "Epoch 6/50\n",
            "8/8 [==============================] - 0s 5ms/step - loss: 0.3633 - accuracy: 0.8370 - val_loss: 0.3884 - val_accuracy: 0.8684\n",
            "Epoch 7/50\n",
            "8/8 [==============================] - 0s 7ms/step - loss: 0.3649 - accuracy: 0.8458 - val_loss: 0.3763 - val_accuracy: 0.8947\n",
            "Epoch 8/50\n",
            "8/8 [==============================] - 0s 4ms/step - loss: 0.3662 - accuracy: 0.8634 - val_loss: 0.3766 - val_accuracy: 0.8947\n",
            "Epoch 9/50\n",
            "8/8 [==============================] - 0s 4ms/step - loss: 0.3600 - accuracy: 0.8634 - val_loss: 0.3847 - val_accuracy: 0.8947\n",
            "Epoch 10/50\n",
            "8/8 [==============================] - 0s 4ms/step - loss: 0.3630 - accuracy: 0.8282 - val_loss: 0.3934 - val_accuracy: 0.8684\n",
            "Epoch 11/50\n",
            "8/8 [==============================] - 0s 6ms/step - loss: 0.3603 - accuracy: 0.8458 - val_loss: 0.3766 - val_accuracy: 0.8947\n",
            "Epoch 12/50\n",
            "8/8 [==============================] - 0s 5ms/step - loss: 0.3591 - accuracy: 0.8634 - val_loss: 0.3814 - val_accuracy: 0.8947\n",
            "Epoch 13/50\n",
            "8/8 [==============================] - 0s 5ms/step - loss: 0.3572 - accuracy: 0.8590 - val_loss: 0.3828 - val_accuracy: 0.8947\n",
            "Epoch 14/50\n",
            "8/8 [==============================] - 0s 7ms/step - loss: 0.3564 - accuracy: 0.8546 - val_loss: 0.3847 - val_accuracy: 0.8947\n",
            "Epoch 15/50\n",
            "8/8 [==============================] - 0s 4ms/step - loss: 0.3577 - accuracy: 0.8634 - val_loss: 0.3807 - val_accuracy: 0.8947\n",
            "Epoch 16/50\n",
            "8/8 [==============================] - 0s 8ms/step - loss: 0.3582 - accuracy: 0.8634 - val_loss: 0.3800 - val_accuracy: 0.8947\n",
            "Epoch 17/50\n",
            "8/8 [==============================] - 0s 7ms/step - loss: 0.3570 - accuracy: 0.8678 - val_loss: 0.3808 - val_accuracy: 0.8947\n",
            "Epoch 18/50\n",
            "8/8 [==============================] - 0s 5ms/step - loss: 0.3594 - accuracy: 0.8634 - val_loss: 0.3837 - val_accuracy: 0.8947\n",
            "Epoch 19/50\n",
            "8/8 [==============================] - 0s 7ms/step - loss: 0.3641 - accuracy: 0.8282 - val_loss: 0.4159 - val_accuracy: 0.8289\n",
            "Epoch 20/50\n",
            "8/8 [==============================] - 0s 4ms/step - loss: 0.3657 - accuracy: 0.8282 - val_loss: 0.3833 - val_accuracy: 0.8947\n",
            "Epoch 21/50\n",
            "8/8 [==============================] - 0s 5ms/step - loss: 0.3595 - accuracy: 0.8590 - val_loss: 0.3836 - val_accuracy: 0.8947\n",
            "Epoch 22/50\n",
            "8/8 [==============================] - 0s 4ms/step - loss: 0.3593 - accuracy: 0.8414 - val_loss: 0.3965 - val_accuracy: 0.8553\n",
            "Epoch 23/50\n",
            "8/8 [==============================] - 0s 7ms/step - loss: 0.3575 - accuracy: 0.8458 - val_loss: 0.3830 - val_accuracy: 0.8816\n",
            "Epoch 24/50\n",
            "8/8 [==============================] - 0s 4ms/step - loss: 0.3576 - accuracy: 0.8590 - val_loss: 0.3892 - val_accuracy: 0.8947\n",
            "Epoch 25/50\n",
            "8/8 [==============================] - 0s 4ms/step - loss: 0.3637 - accuracy: 0.8326 - val_loss: 0.4151 - val_accuracy: 0.8421\n",
            "Epoch 26/50\n",
            "8/8 [==============================] - 0s 4ms/step - loss: 0.3798 - accuracy: 0.8370 - val_loss: 0.3832 - val_accuracy: 0.8947\n",
            "Epoch 27/50\n",
            "8/8 [==============================] - 0s 4ms/step - loss: 0.3606 - accuracy: 0.8282 - val_loss: 0.4019 - val_accuracy: 0.8684\n",
            "Epoch 28/50\n",
            "8/8 [==============================] - 0s 5ms/step - loss: 0.3548 - accuracy: 0.8458 - val_loss: 0.3830 - val_accuracy: 0.8947\n",
            "Epoch 29/50\n",
            "8/8 [==============================] - 0s 7ms/step - loss: 0.3620 - accuracy: 0.8590 - val_loss: 0.3803 - val_accuracy: 0.8684\n",
            "Epoch 30/50\n",
            "8/8 [==============================] - 0s 5ms/step - loss: 0.3716 - accuracy: 0.8546 - val_loss: 0.3799 - val_accuracy: 0.8947\n",
            "Epoch 31/50\n",
            "8/8 [==============================] - 0s 7ms/step - loss: 0.3589 - accuracy: 0.8326 - val_loss: 0.4014 - val_accuracy: 0.8553\n",
            "Epoch 32/50\n",
            "8/8 [==============================] - 0s 4ms/step - loss: 0.3575 - accuracy: 0.8414 - val_loss: 0.3800 - val_accuracy: 0.8816\n",
            "Epoch 33/50\n",
            "8/8 [==============================] - 0s 4ms/step - loss: 0.3591 - accuracy: 0.8634 - val_loss: 0.3830 - val_accuracy: 0.8947\n",
            "Epoch 34/50\n",
            "8/8 [==============================] - 0s 7ms/step - loss: 0.3602 - accuracy: 0.8370 - val_loss: 0.4037 - val_accuracy: 0.8553\n",
            "Epoch 35/50\n",
            "8/8 [==============================] - 0s 6ms/step - loss: 0.3573 - accuracy: 0.8370 - val_loss: 0.3870 - val_accuracy: 0.8947\n",
            "Epoch 36/50\n",
            "8/8 [==============================] - 0s 7ms/step - loss: 0.3541 - accuracy: 0.8326 - val_loss: 0.4146 - val_accuracy: 0.8421\n",
            "Epoch 37/50\n",
            "8/8 [==============================] - 0s 7ms/step - loss: 0.3798 - accuracy: 0.8062 - val_loss: 0.4213 - val_accuracy: 0.8289\n",
            "Epoch 38/50\n",
            "8/8 [==============================] - 0s 4ms/step - loss: 0.3609 - accuracy: 0.8458 - val_loss: 0.3829 - val_accuracy: 0.8816\n",
            "Epoch 39/50\n",
            "8/8 [==============================] - 0s 7ms/step - loss: 0.3623 - accuracy: 0.8634 - val_loss: 0.3885 - val_accuracy: 0.8947\n",
            "Epoch 40/50\n",
            "8/8 [==============================] - 0s 7ms/step - loss: 0.3646 - accuracy: 0.8194 - val_loss: 0.4104 - val_accuracy: 0.8421\n",
            "Epoch 41/50\n",
            "8/8 [==============================] - 0s 4ms/step - loss: 0.3606 - accuracy: 0.8150 - val_loss: 0.3938 - val_accuracy: 0.8816\n",
            "Epoch 42/50\n",
            "8/8 [==============================] - 0s 7ms/step - loss: 0.3600 - accuracy: 0.8282 - val_loss: 0.4051 - val_accuracy: 0.8553\n",
            "Epoch 43/50\n",
            "8/8 [==============================] - 0s 5ms/step - loss: 0.3551 - accuracy: 0.8458 - val_loss: 0.3849 - val_accuracy: 0.8816\n",
            "Epoch 44/50\n",
            "8/8 [==============================] - 0s 5ms/step - loss: 0.3644 - accuracy: 0.8722 - val_loss: 0.3847 - val_accuracy: 0.8816\n",
            "Epoch 45/50\n",
            "8/8 [==============================] - 0s 7ms/step - loss: 0.3551 - accuracy: 0.8634 - val_loss: 0.3943 - val_accuracy: 0.8553\n",
            "Epoch 46/50\n",
            "8/8 [==============================] - 0s 5ms/step - loss: 0.3543 - accuracy: 0.8458 - val_loss: 0.3893 - val_accuracy: 0.8947\n",
            "Epoch 47/50\n",
            "8/8 [==============================] - 0s 7ms/step - loss: 0.3577 - accuracy: 0.8546 - val_loss: 0.3830 - val_accuracy: 0.8816\n",
            "Epoch 48/50\n",
            "8/8 [==============================] - 0s 4ms/step - loss: 0.3566 - accuracy: 0.8546 - val_loss: 0.4015 - val_accuracy: 0.8553\n",
            "Epoch 49/50\n",
            "8/8 [==============================] - 0s 7ms/step - loss: 0.3663 - accuracy: 0.8238 - val_loss: 0.4018 - val_accuracy: 0.8553\n",
            "Epoch 50/50\n",
            "8/8 [==============================] - 0s 4ms/step - loss: 0.3556 - accuracy: 0.8546 - val_loss: 0.3871 - val_accuracy: 0.8553\n"
          ]
        }
      ]
    },
    {
      "cell_type": "code",
      "source": [
        "test_loss, test_acc=model.evaluate(X_test, y_test)\n",
        "\n",
        "print(f\"Test Loss :{test_loss}\\nTest Accuracy:{test_acc}\")"
      ],
      "metadata": {
        "colab": {
          "base_uri": "https://localhost:8080/"
        },
        "id": "-eV1f98fIXb_",
        "outputId": "eed5d9df-f9d2-4410-8264-b943c86a84af"
      },
      "execution_count": 29,
      "outputs": [
        {
          "output_type": "stream",
          "name": "stdout",
          "text": [
            "3/3 [==============================] - 0s 4ms/step - loss: 0.3871 - accuracy: 0.8553\n",
            "Test Loss :0.3870636224746704\n",
            "Test Accuracy:0.8552631735801697\n"
          ]
        }
      ]
    },
    {
      "cell_type": "code",
      "source": [
        "import matplotlib.pyplot as plt\n",
        "\n",
        "plt.plot(history.history['loss'], label='Training Loss')\n",
        "plt.plot(history.history['accuracy'], label='Training Accuracy')\n",
        "plt.legend()\n",
        "plt.show()"
      ],
      "metadata": {
        "colab": {
          "base_uri": "https://localhost:8080/",
          "height": 430
        },
        "id": "SLLhGzepK0Ib",
        "outputId": "ce3ea075-b56e-46ee-b057-7480a0200b02"
      },
      "execution_count": 32,
      "outputs": [
        {
          "output_type": "display_data",
          "data": {
            "text/plain": [
              "<Figure size 640x480 with 1 Axes>"
            ],
            "image/png": "[encoded data removed]"
          },
          "metadata": {}
        }
      ]
    }
  ]
}